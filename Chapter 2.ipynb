{
 "cells": [
  {
   "cell_type": "markdown",
   "metadata": {},
   "source": [
    "# Chapter 2\n",
    "This notebook contains my own solutions to Chapter 2 Questions and Problems"
   ]
  },
  {
   "cell_type": "markdown",
   "metadata": {},
   "source": [
    "## Useful Examples"
   ]
  },
  {
   "cell_type": "markdown",
   "metadata": {},
   "source": [
    "### E2.20: Fibonacci Sequence\n",
    "Below is a code to generate the i Fibonacci Numbers"
   ]
  },
  {
   "cell_type": "code",
   "execution_count": 3,
   "metadata": {},
   "outputs": [
    {
     "name": "stdout",
     "output_type": "stream",
     "text": [
      "[1, 1, 2, 3, 5]\n"
     ]
    }
   ],
   "source": [
    "fibonacci_numbers = [1, 1]\n",
    "\n",
    "no_of_numbers = int(input(\"How many fibonacci numbers do you want: \"))\n",
    "\n",
    "if no_of_numbers < 2:\n",
    "    raise Exception(\"You must ask for at least two fibonacci numbers!\")\n",
    "else:\n",
    "    for i in range(1, no_of_numbers - 1):\n",
    "        fibonacci_numbers.append(fibonacci_numbers[i - 1] + fibonacci_numbers[i])\n",
    "    \n",
    "    print(fibonacci_numbers)"
   ]
  },
  {
   "cell_type": "markdown",
   "metadata": {},
   "source": [
    "### E2.22: Euclid's GCD Algorithm\n",
    "Euclid's GCD algorithm is a method to find the greatest common denominator of two numbers. It can be easily programmed using recursion"
   ]
  },
  {
   "cell_type": "code",
   "execution_count": null,
   "metadata": {},
   "outputs": [
    {
     "name": "stdout",
     "output_type": "stream",
     "text": [
      "3\n"
     ]
    }
   ],
   "source": [
    "a = int(input(\"Give first number: \"))\n",
    "b = int(input(\"Give second number: \"))\n",
    "\n",
    "if a == b:\n",
    "    print(a)\n",
    "elif a > b:\n",
    "    pass\n",
    "elif b > a:\n",
    "    switch = a\n",
    "    a = b\n",
    "    b = switch\n",
    "\n",
    "while b != 0:\n",
    "    remainder = a % b\n",
    "    a = b\n",
    "    b = remainder\n",
    "\n",
    "print(a)"
   ]
  },
  {
   "cell_type": "markdown",
   "metadata": {},
   "source": [
    "### E2.29: The Lazy Caterer's Sequence\n",
    "The sequence describes the maximum number of pieces a number of cuts can cut a pizza into. It is given by $$ f(n) = f(n - 1) + n $$"
   ]
  },
  {
   "cell_type": "code",
   "execution_count": 24,
   "metadata": {},
   "outputs": [
    {
     "name": "stdout",
     "output_type": "stream",
     "text": [
      "You can have 16 pieces\n"
     ]
    }
   ],
   "source": [
    "cuts = int(input(\"Give number of cuts: \"))\n",
    "\n",
    "if cuts == 0:\n",
    "    print(1)\n",
    "else:\n",
    "    pieces = 1\n",
    "    for i in range(cuts + 1):\n",
    "        pieces = pieces + i\n",
    "    print(\"You can have\", pieces, \"pieces\")"
   ]
  },
  {
   "cell_type": "markdown",
   "metadata": {},
   "source": [
    "## Questions"
   ]
  },
  {
   "cell_type": "markdown",
   "metadata": {},
   "source": [
    "### Q2.2.7: Deducing the top face of a die\n",
    "Given a left face a, and right face b, we can use the formula for the top face as $$ 3(a^3 b - a b^3) \\mod 7 $$"
   ]
  },
  {
   "cell_type": "code",
   "execution_count": 30,
   "metadata": {},
   "outputs": [
    {
     "name": "stdout",
     "output_type": "stream",
     "text": [
      "1\n"
     ]
    }
   ],
   "source": [
    "left = int(input(\"Enter left face: \"))\n",
    "right = int(input(\"Enter right face: \"))\n",
    "\n",
    "top = (3 * ((left**3 * right) - (left * right**3))) % 7\n",
    "\n",
    "print(top)"
   ]
  },
  {
   "cell_type": "markdown",
   "metadata": {},
   "source": [
    "### Q2.2.8: Paper Folding\n",
    "Given a paper of thickness 0.1 mm, how many times can you fold it to reach the moon (distance of 384400 Km)"
   ]
  },
  {
   "cell_type": "code",
   "execution_count": 32,
   "metadata": {},
   "outputs": [
    {
     "name": "stdout",
     "output_type": "stream",
     "text": [
      "42\n"
     ]
    }
   ],
   "source": [
    "paper_thickness = 0.1 * (10 ** -3)\n",
    "count = 0\n",
    "while paper_thickness < (384400 * (10 ** 3)):\n",
    "    paper_thickness = paper_thickness * 2\n",
    "    count = count + 1\n",
    "\n",
    "print(count)"
   ]
  },
  {
   "cell_type": "markdown",
   "metadata": {},
   "source": [
    "### Q2.3.2: Determining if the string is a palindrome"
   ]
  },
  {
   "cell_type": "code",
   "execution_count": 33,
   "metadata": {},
   "outputs": [
    {
     "name": "stdout",
     "output_type": "stream",
     "text": [
      "Is a palindrome\n"
     ]
    }
   ],
   "source": [
    "input = str(input(\"Enter a string: \"))\n",
    "\n",
    "input_reversed = input[::-1]\n",
    "\n",
    "if input_reversed == input:\n",
    "    print(\"Is a palindrome\")\n",
    "else:\n",
    "    print(\"Not a palindrome\")"
   ]
  },
  {
   "cell_type": "markdown",
   "metadata": {},
   "source": [
    "### Q2.3.4: Differentiating a polynomial represented by a list\n",
    "We are doing the polynomial $$ P(x) = 4 + 5x + 2x^3 $$"
   ]
  },
  {
   "cell_type": "code",
   "execution_count": 36,
   "metadata": {},
   "outputs": [
    {
     "name": "stdout",
     "output_type": "stream",
     "text": [
      "[5, 0, 6]\n"
     ]
    }
   ],
   "source": [
    "polynomial = [4, 5, 0, 2]\n",
    "d_polynomial = []\n",
    "\n",
    "for i in range(1, len(polynomial)):\n",
    "    d_polynomial.append(polynomial[i] * i)\n",
    "\n",
    "print(d_polynomial)"
   ]
  },
  {
   "cell_type": "markdown",
   "metadata": {},
   "source": [
    "### Q2.4.3: Ranking a List\n",
    "The following code ranks a list of test scores"
   ]
  },
  {
   "cell_type": "code",
   "execution_count": 50,
   "metadata": {},
   "outputs": [
    {
     "name": "stdout",
     "output_type": "stream",
     "text": [
      "[1, 2, 2, 4, 5, 5]\n"
     ]
    }
   ],
   "source": [
    "scores = [87, 75, 75, 50, 32, 32]\n",
    "ranks = []\n",
    "\n",
    "ranks.append(1)\n",
    "\n",
    "for score in range(1, len(scores)):\n",
    "    if scores[score] == scores[score - 1]:\n",
    "        ranks.append(ranks[score - 1])\n",
    "    else:\n",
    "        ranks.append(score + 1)\n",
    "\n",
    "print(ranks)"
   ]
  },
  {
   "cell_type": "markdown",
   "metadata": {},
   "source": [
    "### Q2.4.4: Madhava Series\n",
    "The question requires us to find the first 20 terms of the Madhava Series\n",
    "$$ \\pi = \\sqrt{12} (1 - \\frac{1}{3 * 3} + \\frac{1}{5 * 3^2} - \\frac{1}{7 * 3^3} + ...) $$"
   ]
  },
  {
   "cell_type": "code",
   "execution_count": 69,
   "metadata": {},
   "outputs": [
    {
     "name": "stdout",
     "output_type": "stream",
     "text": [
      "3.1415926535714034\n"
     ]
    }
   ],
   "source": [
    "import math\n",
    "\n",
    "madhavan_bracket_sum = 0\n",
    "\n",
    "for i in range(0, 20):\n",
    "    madhavan_bracket_sum = madhavan_bracket_sum + ((-1) ** i) / (((2 * i) + 1) * (3 ** i))\n",
    "\n",
    "print(math.sqrt(12) * madhavan_bracket_sum)"
   ]
  },
  {
   "cell_type": "markdown",
   "metadata": {},
   "source": [
    "### Q2.4.7: Sorting one list based on items in another\n",
    "This problem is a little more complicated version of a normal sorting problem, and will involve the unzip as part of the solution"
   ]
  },
  {
   "cell_type": "code",
   "execution_count": 12,
   "metadata": {},
   "outputs": [
    {
     "name": "stdout",
     "output_type": "stream",
     "text": [
      "[(1, -1), (1, 4), (2, 2), (3, 0), (3, 1)]\n"
     ]
    }
   ],
   "source": [
    "initial_list = [(3,1), (1,4), (3,0), (2, 2), (1, -1)]\n",
    "\n",
    "## Unzip the list into its first and second elements\n",
    "first_elements_brackets, second_elements_brackets = zip(*initial_list)\n",
    "first_elements = list(first_elements_brackets)\n",
    "second_elements = list(second_elements_brackets)\n",
    "## first_elements contains all the first elements and same for second_elements\n",
    "\n",
    "\n",
    "## Implementing a simple bubble sort algorithm on both first and second elements \n",
    "## Prioritizing the first elements first\n",
    "for i in range(len(initial_list)):\n",
    "    for i in range(1, len(initial_list)):\n",
    "        if first_elements[i] > first_elements[i - 1]:\n",
    "            pass\n",
    "        elif first_elements[i] < first_elements[i - 1]:\n",
    "            switch = first_elements[i]\n",
    "            first_elements[i] = first_elements[i - 1]\n",
    "            first_elements[i - 1] = switch\n",
    "            second_switch = second_elements[i]\n",
    "            second_elements[i] = second_elements[i - 1]\n",
    "            second_elements[i - 1] = second_switch\n",
    "        else:\n",
    "            if second_elements[i] > second_elements[i - 1]:\n",
    "                pass\n",
    "            elif second_elements[i] == second_elements[i - 1]:\n",
    "                pass\n",
    "            else:\n",
    "                switch = first_elements[i]\n",
    "                first_elements[i] = first_elements[i - 1]\n",
    "                first_elements[i - 1] = switch\n",
    "                second_switch = second_elements[i]\n",
    "                second_elements[i] = second_elements[i - 1]\n",
    "                second_elements[i - 1] = second_switch\n",
    "\n",
    "final_output = zip(first_elements, second_elements)\n",
    "print(list(final_output))"
   ]
  },
  {
   "cell_type": "markdown",
   "metadata": {},
   "source": [
    "The months one is even easier, since in that case you just need to sort it by the second elements, and if the second elements are the same, you don't make a switch"
   ]
  },
  {
   "cell_type": "code",
   "execution_count": 15,
   "metadata": {},
   "outputs": [
    {
     "name": "stdout",
     "output_type": "stream",
     "text": [
      "[('Jan', 44.7), ('Dec', 45.8), ('Nov', 59.6), ('Feb', 65.4), ('Mar', 101.7), ('Oct', 105.4), ('Sep', 133.9), ('Apr', 148.3), ('May', 170.9), ('Jun', 171.4), ('Jul', 176.7), ('Aug', 186.1)]\n"
     ]
    }
   ],
   "source": [
    "months = [\"Jan\", \"Feb\", \"Mar\", \"Apr\", \"May\", \"Jun\", \"Jul\", \"Aug\", \"Sep\", \"Oct\", \"Nov\", \"Dec\"]\n",
    "temperatures = [44.7, 65.4, 101.7, 148.3, 170.9, 171.4, 176.7, 186.1, 133.9, 105.4, 59.6, 45.8]\n",
    "\n",
    "for i in range(len(temperatures)):\n",
    "    for i in range(1, len(temperatures)):\n",
    "        if temperatures[i] < temperatures[i - 1]:\n",
    "            months_switch = months[i]\n",
    "            months[i] = months[i - 1]\n",
    "            months[i - 1] = months_switch\n",
    "            temperatures_switch = temperatures[i]\n",
    "            temperatures[i] = temperatures[i - 1]\n",
    "            temperatures[i - 1] = temperatures_switch\n",
    "        else:\n",
    "            pass\n",
    "\n",
    "final_output = zip(months, temperatures)\n",
    "print(list(final_output))"
   ]
  },
  {
   "cell_type": "markdown",
   "metadata": {},
   "source": [
    "### Q2.5.1: Normalizing a list\n",
    "The minimum should become 0 and maximum should become 1"
   ]
  },
  {
   "cell_type": "code",
   "execution_count": 2,
   "metadata": {},
   "outputs": [
    {
     "name": "stdout",
     "output_type": "stream",
     "text": [
      "[0.0, 0.25, 1.0, 0.5, 0.75, 0.25]\n"
     ]
    }
   ],
   "source": [
    "a = [2, 4, 10, 6, 8, 4]\n",
    "\n",
    "maximum = max(a)\n",
    "minimum = min(a)\n",
    "range_of_a = maximum - minimum\n",
    "\n",
    "for i in range(len(a)):\n",
    "    a[i] = a[i] - minimum\n",
    "\n",
    "for i in range(len(a)):\n",
    "    a[i] = a[i] / range_of_a\n",
    "\n",
    "print(a)"
   ]
  },
  {
   "cell_type": "markdown",
   "metadata": {},
   "source": [
    "### Q2.5.2: The Arithmetic-Geometric Mean\n",
    "We will iterate the sequences to 1000 terms"
   ]
  },
  {
   "cell_type": "code",
   "execution_count": 102,
   "metadata": {},
   "outputs": [
    {
     "name": "stdout",
     "output_type": "stream",
     "text": [
      "a_n: 1.1981402347355923\n",
      "b_n: 1.1981402347355923\n",
      "1.1981402347355923\n",
      "a_n: 1.1981402347355923\n",
      "b_n: 1.1981402347355923\n",
      "Gauss Constant G = 0.8346268416740731\n"
     ]
    }
   ],
   "source": [
    "def agm(x: float, y: float):\n",
    "    a_n = x\n",
    "    b_n = y\n",
    "    i = 0\n",
    "    for i in range(1000):\n",
    "        a_n_plus_one = 0.5 * (a_n + b_n)\n",
    "        b_n_plus_one = math.sqrt(a_n * b_n)\n",
    "        a_n = a_n_plus_one\n",
    "        b_n = b_n_plus_one\n",
    "        i += 1\n",
    "    print(\"a_n:\", a_n)\n",
    "    print(\"b_n:\", b_n)\n",
    "    return a_n\n",
    "\n",
    "print(agm(1.0, math.sqrt(2))) \n",
    "print(\"Gauss Constant G =\", 1 / agm(1.0, math.sqrt(2)))"
   ]
  },
  {
   "cell_type": "markdown",
   "metadata": {},
   "source": [
    "### Q2.5.3: Fizzbuzz\n",
    "Fizzbuzz is a simple game. If a number is divisible by 3, replace it with \"Fizz\". If it is divisible by 5, say \"Buzz\", and if it is divisible by both, say \"Fizzbuzz.\"\n",
    "We need to play the game till 100. I will also print out which ones are Fizz, Buzz and Fizzbuzz separately"
   ]
  },
  {
   "cell_type": "code",
   "execution_count": 16,
   "metadata": {},
   "outputs": [
    {
     "name": "stdout",
     "output_type": "stream",
     "text": [
      "Fizzbuzz elements:  [15, 30, 45, 60, 75, 90]\n",
      "Fizz elements:  [3, 6, 9, 12, 18, 21, 24, 27, 33, 36, 39, 42, 48, 51, 54, 57, 63, 66, 69, 72, 78, 81, 84, 87, 93, 96, 99]\n",
      "Buzz elements:  [5, 10, 20, 25, 35, 40, 50, 55, 65, 70, 80, 85, 95, 100]\n",
      "[1, 2, 'Fizz', 4, 'Buzz', 'Fizz', 7, 8, 'Fizz', 'Buzz', 11, 'Fizz', 13, 14, 'Fizzbuzz', 16, 17, 'Fizz', 19, 'Buzz', 'Fizz', 22, 23, 'Fizz', 'Buzz', 26, 'Fizz', 28, 29, 'Fizzbuzz', 31, 32, 'Fizz', 34, 'Buzz', 'Fizz', 37, 38, 'Fizz', 'Buzz', 41, 'Fizz', 43, 44, 'Fizzbuzz', 46, 47, 'Fizz', 49, 'Buzz', 'Fizz', 52, 53, 'Fizz', 'Buzz', 56, 'Fizz', 58, 59, 'Fizzbuzz', 61, 62, 'Fizz', 64, 'Buzz', 'Fizz', 67, 68, 'Fizz', 'Buzz', 71, 'Fizz', 73, 74, 'Fizzbuzz', 76, 77, 'Fizz', 79, 'Buzz', 'Fizz', 82, 83, 'Fizz', 'Buzz', 86, 'Fizz', 88, 89, 'Fizzbuzz', 91, 92, 'Fizz', 94, 'Buzz', 'Fizz', 97, 98, 'Fizz', 'Buzz']\n"
     ]
    }
   ],
   "source": [
    "initial_list = []\n",
    "\n",
    "## Add numbers from 1 to 100\n",
    "for i in range(1, 101):\n",
    "    initial_list.append(i)\n",
    "\n",
    "## Only fizzbuzz elements\n",
    "fizzbuzz = []\n",
    "## Only fizz elements\n",
    "fizz = []\n",
    "## Only buzz elements\n",
    "buzz = []\n",
    "\n",
    "for i in range(len(initial_list)):\n",
    "    if (initial_list[i] % 5 == 0) and (initial_list[i] % 3 == 0):\n",
    "        fizzbuzz.append(initial_list[i])\n",
    "        initial_list[i] = \"Fizzbuzz\"\n",
    "    elif (initial_list[i] % 5 == 0):\n",
    "        buzz.append(initial_list[i])\n",
    "        initial_list[i] = \"Buzz\"\n",
    "    elif (initial_list[i] % 3 == 0):\n",
    "        fizz.append(initial_list[i])\n",
    "        initial_list[i] = \"Fizz\"\n",
    "    else:\n",
    "        pass\n",
    "\n",
    "print(\"Fizzbuzz elements: \", fizzbuzz)\n",
    "print(\"Fizz elements: \", fizz)\n",
    "print(\"Buzz elements: \", buzz)\n",
    "print(initial_list)"
   ]
  },
  {
   "cell_type": "markdown",
   "metadata": {},
   "source": [
    "### Q2.5.4: Alkane Chemical Formula\n",
    "We want to make a code to turn a chemical formula like C8H18 into its structural formula"
   ]
  },
  {
   "cell_type": "code",
   "execution_count": 21,
   "metadata": {},
   "outputs": [
    {
     "name": "stdout",
     "output_type": "stream",
     "text": [
      "CH3-CH2-CH2-CH2-CH2-CH2-CH2-CH3\n"
     ]
    }
   ],
   "source": [
    "chemical_formula = str(input(\"Enter chemical formula: \"))\n",
    "\n",
    "## Split into two parts like \"C8\" and \"H18\"\n",
    "parts = chemical_formula.split('H')\n",
    "## Take out numbers\n",
    "number_carbon = int(parts[0][1:])\n",
    "number_hydrogen = int(parts[1])\n",
    "\n",
    "## Check for alkane\n",
    "if number_hydrogen != (2 * number_carbon) + 2:\n",
    "    raise Exception(\"Not an alkane\")\n",
    "else:\n",
    "    pass\n",
    "\n",
    "## Create a string\n",
    "structural_formula = \"CH3\"\n",
    "\n",
    "for i in range(number_carbon - 2):\n",
    "    structural_formula += \"-CH2\"\n",
    "\n",
    "structural_formula += \"-CH3\"\n",
    "\n",
    "print(structural_formula)"
   ]
  },
  {
   "cell_type": "markdown",
   "metadata": {},
   "source": [
    "### Q2.7.2: Compound Interest Function:\n",
    "The code gives the interest rate after each year"
   ]
  },
  {
   "cell_type": "code",
   "execution_count": 29,
   "metadata": {},
   "outputs": [
    {
     "name": "stdout",
     "output_type": "stream",
     "text": [
      "Balance after year 0 : 1000.0\n",
      "Balance after year 1 : 1057.187014416\n",
      "Balance after year 2 : 1117.644383449816\n",
      "Balance after year 3 : 1181.559128918122\n",
      "Balance after year 4 : 1249.128967856919\n"
     ]
    }
   ],
   "source": [
    "initial_amount = float(input(\"Enter the initial amount invested: \"))\n",
    "rate = float(input(\"Enter the percentage rate: \"))\n",
    "periods = int(input(\"Enter how many times a year the amount compounds: \"))\n",
    "years = int(input(\"Enter number of years: \"))\n",
    "\n",
    "rate_in_formula = rate / 100\n",
    "\n",
    "for i in range(years):\n",
    "    value = initial_amount * ((1 + (rate_in_formula / periods)) ** (periods * i))\n",
    "    print(\"Balance after year\", i, \":\", value)"
   ]
  },
  {
   "cell_type": "markdown",
   "metadata": {},
   "source": [
    "### Q2.7.3: Harshad Numbers\n",
    "A harshad number is a number that is divisible by the sum of its digits. We are making a code to confirm if a number is a Harshad number"
   ]
  },
  {
   "cell_type": "code",
   "execution_count": 25,
   "metadata": {},
   "outputs": [
    {
     "name": "stdout",
     "output_type": "stream",
     "text": [
      "21 is a Harshad Number\n"
     ]
    }
   ],
   "source": [
    "number = int(input(\"Enter a number: \"))\n",
    "\n",
    "## Create a list of digits\n",
    "digits = list(str(number))\n",
    "\n",
    "## Sum the digits\n",
    "digits_sum = 0\n",
    "\n",
    "for i in range(len(digits)):\n",
    "    digits_sum += int(digits[i])\n",
    "\n",
    "## Check harshad number\n",
    "if number % digits_sum == 0:\n",
    "    print(number, \"is a Harshad Number\")\n",
    "else:\n",
    "    print(number, \"is not a Harshad number\")"
   ]
  },
  {
   "cell_type": "markdown",
   "metadata": {},
   "source": [
    "### Q2.X.1: Converting decimal degrees to deg, min, sec\n",
    "We will be converting the decimal degrees to degrees minutes and seconds based on the requirements of the book. Additionally, you can request latitude and longitude if you want"
   ]
  },
  {
   "cell_type": "code",
   "execution_count": 28,
   "metadata": {},
   "outputs": [
    {
     "name": "stdout",
     "output_type": "stream",
     "text": [
      "' 66 ° -30 ' 36.00000000001842 ' N'\n"
     ]
    }
   ],
   "source": [
    "import math\n",
    "\n",
    "number = float(input(\"Enter degrees between -90 and 90: \"))\n",
    "requirement = str(input(\"latitude, longitude, or none: \"))\n",
    "\n",
    "rounded_number = math.floor(number)\n",
    "min_and_sec = rounded_number - number\n",
    "\n",
    "degrees = number - min_and_sec\n",
    "total_sec = 3600 * min_and_sec\n",
    "minutes = math.floor(total_sec / 60)\n",
    "seconds = total_sec - (60 * minutes)\n",
    "\n",
    "if requirement == \"latitude\":\n",
    "    if number > 0:\n",
    "        direction = \"N'\"\n",
    "    else:\n",
    "        direction = \"S'\"\n",
    "    print(\"'\", rounded_number, \"\\u00B0\", minutes, \"'\", seconds, \"'\", direction)\n",
    "elif requirement == \"longitude\":\n",
    "    if number > 0:\n",
    "        direction = \"E'\"\n",
    "    else:\n",
    "        direction = \"W'\"\n",
    "    print(\"'\", rounded_number, \"\\u00B0\", minutes, \"'\", seconds, \"'\", direction)\n",
    "else:\n",
    "    print(\"(\", rounded_number, minutes, seconds, \")\")"
   ]
  },
  {
   "cell_type": "markdown",
   "metadata": {},
   "source": [
    "## Problems"
   ]
  },
  {
   "cell_type": "markdown",
   "metadata": {},
   "source": [
    "### P2.2.1: XOR Operator\n",
    "We want to design an XOR Operator, which is the And Or operator. You can find the truth table for the same online"
   ]
  },
  {
   "cell_type": "code",
   "execution_count": 31,
   "metadata": {},
   "outputs": [
    {
     "name": "stdout",
     "output_type": "stream",
     "text": [
      "True\n",
      "False\n",
      "True\n",
      "True\n"
     ]
    }
   ],
   "source": [
    "def xor(a: bool, b: bool):\n",
    "    if a is True and b is True:\n",
    "        return True\n",
    "    elif a is True:\n",
    "        return True\n",
    "    elif b is True:\n",
    "        return True\n",
    "    else:\n",
    "        return False\n",
    "\n",
    "print(xor(True, False))\n",
    "print(xor(False, False))\n",
    "print(xor(True, True))\n",
    "print(xor(False, True))"
   ]
  },
  {
   "cell_type": "markdown",
   "metadata": {},
   "source": [
    "### P2.2.2: Some fun with the math module\n",
    "This code will include solutions to part (a) and part (d)\n",
    "Part d is solved by manipulating variables to get $$ c^2 = b \\sqrt{1 + \\frac{a^2}{b^2}} $$"
   ]
  },
  {
   "cell_type": "code",
   "execution_count": 39,
   "metadata": {},
   "outputs": [
    {
     "name": "stdout",
     "output_type": "stream",
     "text": [
      "-1.0\n",
      "Very close to a multiple of pi\n",
      "(-0.999999999552043+2.9931824258349768e-05j)\n",
      "Very close to -1\n",
      "Using math.hypot\n",
      "3.503212811120672e+201\n",
      "With manipulation\n",
      "3.5032128111206724e+201\n"
     ]
    }
   ],
   "source": [
    "import math\n",
    "\n",
    "print(math.sin(2017 * 2**0.2))\n",
    "print(\"Very close to a multiple of pi\")\n",
    "print((3.14 + 20)**1j)\n",
    "print(\"Very close to -1\")\n",
    "\n",
    "a = 1.5 * (10**200)\n",
    "b = 3.5 * (10**201)\n",
    "\n",
    "print(\"Using math.hypot\")\n",
    "print(math.hypot(a, b))\n",
    "print(\"With manipulation\")\n",
    "inside_root = 1 + ((a / b) ** 2)\n",
    "print(b * math.sqrt(inside_root))"
   ]
  },
  {
   "cell_type": "markdown",
   "metadata": {},
   "source": [
    "### P2.2.4: Estimating the Surface Area of the Earth\n",
    "The formula here is really annoyingly long, so I asked chatgpt to code it up. The rest I have coded up myself"
   ]
  },
  {
   "cell_type": "code",
   "execution_count": 43,
   "metadata": {},
   "outputs": [
    {
     "name": "stdout",
     "output_type": "stream",
     "text": [
      "Area with oblate spheroid:  510065621724078.94\n",
      "Area with sphere:  510064471909788.25\n",
      "difference = 2.2542477707103628e-08 %\n"
     ]
    }
   ],
   "source": [
    "def oblate_spheroid_surface_area(a, c):\n",
    "    if a == 0:\n",
    "        raise ValueError(\"a cannot be zero.\")\n",
    "    \n",
    "    e_squared = 1 - (c**2) / (a**2)\n",
    "    \n",
    "    if not (0 < e_squared < 1):\n",
    "        raise ValueError(\"Eccentricity squared must be in (0, 1) for real atanh.\")\n",
    "    \n",
    "    e = math.sqrt(e_squared)\n",
    "    term = ((1 - e_squared) / e) * math.atanh(e)\n",
    "    area = 2 * math.pi * a**2 * (1 + term)\n",
    "    \n",
    "    return area\n",
    "\n",
    "print(\"Area with oblate spheroid: \", oblate_spheroid_surface_area(6378137.0, 6356752.314245))\n",
    "\n",
    "def sphere_surface_area(r):\n",
    "    return 4 * math.pi * (r ** 2)\n",
    "\n",
    "print(\"Area with sphere: \", sphere_surface_area(6371000))\n",
    "\n",
    "difference = (oblate_spheroid_surface_area(6378137.0, 6356752.314245) - \n",
    "              sphere_surface_area(6371000)) / oblate_spheroid_surface_area(6378137.0, 6356752.314245)\n",
    "\n",
    "print(\"difference =\", difference / 100, \"%\")"
   ]
  },
  {
   "cell_type": "markdown",
   "metadata": {},
   "source": [
    "### P2.3.1: GC-Content Nucleotide Sequence\n",
    "This question has two parts. The first is to determine the fraction of C and G bases in the sequence and the second is to determine if a DNA sequence is palindromic. In DNA's case, the sequence can be palindromic even if its not the same exact bases forward and backward as long as the complementary bases replace them"
   ]
  },
  {
   "cell_type": "code",
   "execution_count": 50,
   "metadata": {},
   "outputs": [
    {
     "name": "stdout",
     "output_type": "stream",
     "text": [
      "Fractional percentage of C-G: 50.0 %\n",
      "Palindromic sequence\n"
     ]
    }
   ],
   "source": [
    "def count_C_G(dna: str):\n",
    "    count = 0\n",
    "    for i in range(len(dna)):\n",
    "        if dna[i] == \"C\" or dna[i] == \"G\":\n",
    "            count += 1\n",
    "        else:\n",
    "            pass\n",
    "    return (count / len(dna)) * 100\n",
    "\n",
    "print(\"Fractional percentage of C-G:\", count_C_G(\"TGGATCCA\"), \"%\")\n",
    "\n",
    "def is_palindromic(dna: str):\n",
    "    dna_reversed = dna[::-1]\n",
    "    for i in range(len(dna)):\n",
    "        if dna[i] == \"A\" or dna[i] == \"T\":\n",
    "            if dna_reversed[i] == \"A\" or dna_reversed[i] == \"T\":\n",
    "                pass\n",
    "            else:\n",
    "                return \"Not a palindromic sequence\"\n",
    "        else:\n",
    "            if dna_reversed[i] == \"C\" or dna_reversed[i] == \"G\":\n",
    "                pass\n",
    "            else:\n",
    "                return \"Not a palindromic sequence\"\n",
    "            \n",
    "    return \"Palindromic sequence\"\n",
    "\n",
    "print(is_palindromic(\"TGGATCCA\"))"
   ]
  },
  {
   "cell_type": "markdown",
   "metadata": {},
   "source": [
    "### P2.3.2: String Formatting and Physical Constraints"
   ]
  },
  {
   "cell_type": "code",
   "execution_count": 84,
   "metadata": {},
   "outputs": [
    {
     "name": "stdout",
     "output_type": "stream",
     "text": [
      "Part a:\n",
      "kB = 1.381e-23 J/K\n",
      "Part b:\n",
      "G = 0.0000000000667428 Nm^2/Kg^2\n",
      "Part c:\n",
      "kB = 1.3807e-23 J/K\n",
      "mu_e = -9.2848e-24 J/T\n",
      "N_A = 6.0221e+23 mol-1\n",
      "c = 2.9979e+08 m/s\n",
      "Part d:\n",
      "===   G = +6.67E-11 [Nm^2/Kg^2]   ===\n",
      "===   μe = -9.28E-24 [J/T]   ===\n",
      "Part e:\n",
      "G = 6.6742799999999995(67)e-11 Nm^2/Kg^2\n",
      "mu_e = -9.284763770000001(23)e-24 J/T\n"
     ]
    }
   ],
   "source": [
    "## part a\n",
    "print(\"Part a:\")\n",
    "txt_a = \"{symbol} = {value:.3e} {units}\"\n",
    "print(txt_a.format(symbol = \"kB\", value = 1.3806504e-23, units = \"J/K\"))\n",
    "## part b\n",
    "print(\"Part b:\")\n",
    "txt_b = \"{symbol} = {value:18.16f} {units}\"\n",
    "print(txt_b.format(symbol = \"G\", value = 6.67428e-11, units = \"Nm^2/Kg^2\"))\n",
    "## part c\n",
    "print(\"Part c:\")\n",
    "txt_c = \"{symbol} = {value:.4e} {units}\"\n",
    "print(txt_c.format(symbol = \"kB\", value = 1.3806504e-23, units = \"J/K\"))\n",
    "print(txt_c.format(symbol = \"mu_e\", value = -9.28476377e-24, units = \"J/T\"))\n",
    "print(txt_c.format(symbol = \"N_A\", value = 6.02214179e23, units = \"mol-1\"))\n",
    "print(txt_c.format(symbol = \"c\", value = 299792458, units = \"m/s\"))\n",
    "## part d\n",
    "print(\"Part d:\")\n",
    "txt_d = \"===   {symbol} = {value:+9.2E} [{units}]   ===\"\n",
    "print(txt_d.format(symbol = \"G\", value = 6.67428e-11, units = \"Nm^2/Kg^2\"))\n",
    "print(txt_d.format(symbol = '\\u03BC'\"e\", value = -9.28476377e-24, units = \"J/T\"))\n",
    "\n",
    "## part e\n",
    "print(\"Part e:\")\n",
    "def get_exponents(value: float):\n",
    "    return int(math.floor(math.log10(abs(value))))\n",
    "\n",
    "def get_first_two(value: float):\n",
    "    exponent = get_exponents(value)\n",
    "    base = value / (10 ** exponent)\n",
    "    return int(base * 10)\n",
    "\n",
    "def get_base(value: float):\n",
    "    exponent = get_exponents(value)\n",
    "    return (value / (10 ** exponent))\n",
    "\n",
    "txt_e = \"{symbol} = {value}({uncertainty})e{exponent} {units}\"\n",
    "print(txt_e.format(symbol = \"G\", value = get_base(6.67428e-11), \n",
    "                   uncertainty = get_first_two(6.7e-15), \n",
    "                   exponent = get_exponents(6.67428e-11), units=\"Nm^2/Kg^2\"))\n",
    "print(txt_e.format(symbol = \"mu_e\", value = get_base(-9.28476377e-24), \n",
    "                   uncertainty = get_first_two(2.3e-31), \n",
    "                   exponent = get_exponents(-9.28476377e-24), units=\"J/T\"))"
   ]
  },
  {
   "cell_type": "markdown",
   "metadata": {},
   "source": [
    "### P2.3.3: Formatting a Matrix"
   ]
  },
  {
   "cell_type": "code",
   "execution_count": 90,
   "metadata": {},
   "outputs": [
    {
     "name": "stdout",
     "output_type": "stream",
     "text": [
      "Part a:\n",
      "[0.0 3.4 -1.2]\n",
      "[-1.1 0.5 -0.2]\n",
      "[2.3 -1.4 -0.7]\n",
      "Part b:\n",
      "[0 0 1]\n",
      "[0 1 0]\n",
      "[1 0 0]\n"
     ]
    }
   ],
   "source": [
    "three_by_three_matrix = \"[{a11} {a12} {a13}]\" \\\n",
    "\"\\n[{a21} {a22} {a23}]\" \\\n",
    "\"\\n[{a31} {a32} {a33}]\"\n",
    "\n",
    "## Part a\n",
    "print(\"Part a:\")\n",
    "print(three_by_three_matrix.format(a11 = 0.0, a12 = 3.4, a13 = -1.2, \n",
    "                                   a21 = -1.1, a22 = 0.5, a23 = -0.2, \n",
    "                                   a31 = 2.3, a32 = -1.4, a33 = -0.7))\n",
    "\n",
    "## Part b\n",
    "print(\"Part b:\")\n",
    "print(three_by_three_matrix.format(a11 = 0, a12 = 0, a13 = 1, \n",
    "                                   a21 = 0, a22 = 1, a23 = 0, \n",
    "                                   a31 = 1, a32 = 0, a33 = 0))"
   ]
  },
  {
   "cell_type": "markdown",
   "metadata": {},
   "source": [
    "### P2.3.4: Planet Symbols in Unicode\n",
    "Solar System Symbols: https://science.nasa.gov/resource/solar-system-symbols/\n",
    "Unicode: https://www.unicode.org/charts/PDF/U2600.pdf"
   ]
  },
  {
   "cell_type": "code",
   "execution_count": 97,
   "metadata": {},
   "outputs": [
    {
     "name": "stdout",
     "output_type": "stream",
     "text": [
      "Sun: ☉\n",
      "Mercury: ☿\n",
      "Venus: ♀\n",
      "Earth: ⊕\n",
      "Mars: ♂\n",
      "Jupiter: ♃\n",
      "Saturn: ♄\n",
      "Uranus: ⛢\n",
      "Neptune: ♆\n"
     ]
    }
   ],
   "source": [
    "print(\"Sun:\", '\\u2609')\n",
    "print(\"Mercury:\", '\\u263F')\n",
    "print(\"Venus:\", '\\u2640')\n",
    "print(\"Earth:\", '\\u2295')\n",
    "print(\"Mars:\", '\\u2642')\n",
    "print(\"Jupiter:\", '\\u2643')\n",
    "print(\"Saturn:\", '\\u2644')\n",
    "print(\"Uranus:\", '\\u26E2')\n",
    "print(\"Neptune:\", '\\u2646')"
   ]
  },
  {
   "cell_type": "markdown",
   "metadata": {},
   "source": [
    "### P2.4.1: Product of all but one integers in a list"
   ]
  },
  {
   "cell_type": "code",
   "execution_count": 113,
   "metadata": {},
   "outputs": [
    {
     "name": "stdout",
     "output_type": "stream",
     "text": [
      "[120, 60, 40, 30, 24]\n"
     ]
    }
   ],
   "source": [
    "a = [1, 2, 3, 4, 5]\n",
    "p = []\n",
    "\n",
    "for i in range(len(a)):\n",
    "    product = 1\n",
    "    for j in range(len(a)):\n",
    "        if i == j:\n",
    "            pass\n",
    "        else:\n",
    "            product *= a[j]\n",
    "    p.append(product)\n",
    "\n",
    "print(p)"
   ]
  },
  {
   "cell_type": "markdown",
   "metadata": {},
   "source": [
    "### P2.4.2: Hamming Distance\n",
    "The hamming distance is the number of positions at which two equal-length strings are different"
   ]
  },
  {
   "cell_type": "code",
   "execution_count": 115,
   "metadata": {},
   "outputs": [
    {
     "name": "stdout",
     "output_type": "stream",
     "text": [
      "3\n"
     ]
    }
   ],
   "source": [
    "def hamming_distance(s1: str, s2: str):\n",
    "    count = 0\n",
    "    if len(s1) != len(s2):\n",
    "        raise Exception(\"Unequal string length\")\n",
    "    else:\n",
    "        pass\n",
    "\n",
    "    for i in range(len(s1)):\n",
    "        if s1[i] == s2[i]:\n",
    "            pass\n",
    "        else:\n",
    "            count += 1\n",
    "    return count\n",
    "\n",
    "print(hamming_distance(\"Racecar\", \"Racedog\"))"
   ]
  },
  {
   "cell_type": "markdown",
   "metadata": {},
   "source": [
    "### P2.4.3: Pi read aloud"
   ]
  },
  {
   "cell_type": "code",
   "execution_count": 123,
   "metadata": {},
   "outputs": [
    {
     "name": "stdout",
     "output_type": "stream",
     "text": [
      "three point one four one five nine two six five\n"
     ]
    }
   ],
   "source": [
    "output_string = \"three point\"\n",
    "pi_string = str(math.pi)[2:10]\n",
    "for i in range(len(pi_string)):\n",
    "    if pi_string[i] == \"0\":\n",
    "        output_string += \" zero\"\n",
    "    elif pi_string[i] == \"1\":\n",
    "        output_string += \" one\"\n",
    "    elif pi_string[i] == \"2\":\n",
    "        output_string += \" two\"\n",
    "    elif pi_string[i] == \"3\":\n",
    "        output_string += \" three\"\n",
    "    elif pi_string[i] == \"4\":\n",
    "        output_string += \" four\"\n",
    "    elif pi_string[i] == \"5\":\n",
    "        output_string += \" five\"\n",
    "    elif pi_string[i] == \"6\":\n",
    "        output_string += \" six\"\n",
    "    elif pi_string[i] == \"7\":\n",
    "        output_string += \" seven\"\n",
    "    elif pi_string[i] == \"8\":\n",
    "        output_string += \" eight\"\n",
    "    elif pi_string[i] == \"9\":\n",
    "        output_string += \" nine\"\n",
    "\n",
    "print(output_string)"
   ]
  },
  {
   "cell_type": "markdown",
   "metadata": {},
   "source": [
    "### P2.4.4: Pascal's Triangle\n",
    "I am going to use a list of lists to solve this"
   ]
  },
  {
   "cell_type": "code",
   "execution_count": 146,
   "metadata": {},
   "outputs": [
    {
     "name": "stdout",
     "output_type": "stream",
     "text": [
      "         1         \n",
      "        1 1        \n",
      "       1 2 1       \n",
      "      1 3 3 1      \n",
      "     1 4 6 4 1     \n",
      "   1 5 10 10 5 1   \n",
      "  1 6 15 20 15 6 1 \n",
      "1 7 21 35 35 21 7 1\n"
     ]
    }
   ],
   "source": [
    "def create_pascal_list(rows: int):\n",
    "    ## Start with just 1\n",
    "    pascal_list = [[1]]\n",
    "    for i in range(1, rows):\n",
    "        ## Row starts with 1\n",
    "        pascal_sublist = [1]\n",
    "        for j in range(1, i):\n",
    "            ## Every number in between is the sum of its two adjacent members in the row above\n",
    "            pascal_sublist.append(pascal_list[i - 1][j - 1] + pascal_list[i - 1][j])\n",
    "        ## Row ends with 1\n",
    "        pascal_sublist.append(1)\n",
    "        ## Add row to pascal list\n",
    "        pascal_list.append(pascal_sublist)\n",
    "    return pascal_list\n",
    "\n",
    "list_to_print = create_pascal_list(8)\n",
    "\n",
    "## The maximum width is the length of the last row joined by spaces\n",
    "## The map is necessary as the list is a list of integers and we need strings\n",
    "max_width = len(\" \".join(map(str, list_to_print[-1])))\n",
    "## Each row to be printed\n",
    "for row in list_to_print:\n",
    "    ## Initially join by spaces\n",
    "    str_to_print = \" \".join(map(str, row))\n",
    "    ## Center w.r.t max width\n",
    "    print(str_to_print.center(max_width))"
   ]
  },
  {
   "cell_type": "markdown",
   "metadata": {},
   "source": [
    "### P2.4.5: DNA Codons"
   ]
  },
  {
   "cell_type": "code",
   "execution_count": 131,
   "metadata": {},
   "outputs": [
    {
     "name": "stdout",
     "output_type": "stream",
     "text": [
      "(AGT, CTT, ATA, TCT)\n"
     ]
    }
   ],
   "source": [
    "def codon(dna: str, frame: int):\n",
    "    codons = []\n",
    "    for i in range(frame, (len(dna) // 3)):\n",
    "        codons.append(dna[(i * 3):(i * 3 + 3)])\n",
    "    output = \"(\" + \", \".join(codons) + \")\"\n",
    "    print(output)\n",
    "\n",
    "codon(\"AGTCTTATATCT\", 0)"
   ]
  },
  {
   "cell_type": "markdown",
   "metadata": {},
   "source": [
    "### P2.4.6: Double Factorial\n",
    "We will be doing the double factorial for both even and odd numbers"
   ]
  },
  {
   "cell_type": "code",
   "execution_count": 137,
   "metadata": {},
   "outputs": [
    {
     "name": "stdout",
     "output_type": "stream",
     "text": [
      "15\n",
      "105\n",
      "8\n",
      "48\n"
     ]
    }
   ],
   "source": [
    "## Odd\n",
    "def odd_double_factorial(number: int):\n",
    "    if (number % 2 == 0):\n",
    "        raise Exception(\"Not odd\")\n",
    "    else:\n",
    "        pass\n",
    "    factorial = 1\n",
    "    for i in range(0, (number + 1)//2):\n",
    "        factorial *= ((2 * i) + 1)\n",
    "    \n",
    "    print(factorial)\n",
    "\n",
    "odd_double_factorial(5)\n",
    "odd_double_factorial(7)\n",
    "\n",
    "def even_double_factorial(number: int):\n",
    "    if (number % 2 == 1):\n",
    "        raise Exception(\"Not even\")\n",
    "    else:\n",
    "        pass\n",
    "    factorial = 1\n",
    "    for i in range(1, (number // 2) + 1):\n",
    "        factorial *= (2 * i)\n",
    "    \n",
    "    print(factorial)\n",
    "\n",
    "even_double_factorial(4)\n",
    "even_double_factorial(6)"
   ]
  },
  {
   "cell_type": "markdown",
   "metadata": {},
   "source": [
    "### P2.4.7: Benford's Law\n",
    "Benford Law states that the first digits of many datasets are not uniformly distributed but rather follow the pattern\n",
    "$$ P(d) = \\log(\\frac{d + 1}{d})$$"
   ]
  },
  {
   "cell_type": "markdown",
   "metadata": {},
   "source": [
    "We want to verify that for fibonacci numbers (part a). I unfortunately couldn't find the data for the protein sequences (part b)"
   ]
  },
  {
   "cell_type": "code",
   "execution_count": 167,
   "metadata": {},
   "outputs": [
    {
     "name": "stdout",
     "output_type": "stream",
     "text": [
      "Digit   Expected    Actual\n",
      "1       0.302        0.301       \n",
      "2       0.176        0.176       \n",
      "3       0.126        0.125       \n",
      "4       0.094        0.097       \n",
      "5       0.080        0.079       \n",
      "6       0.066        0.067       \n",
      "7       0.058        0.058       \n",
      "8       0.054        0.051       \n",
      "9       0.044        0.046       \n"
     ]
    }
   ],
   "source": [
    "## Part a (uses code from before)\n",
    "fibonacci_numbers = [1, 1]\n",
    "\n",
    "no_of_numbers = 500\n",
    "\n",
    "for i in range(1, no_of_numbers - 1):\n",
    "    fibonacci_numbers.append(fibonacci_numbers[i - 1] + fibonacci_numbers[i])\n",
    "    \n",
    "one_count = 0\n",
    "two_count = 0\n",
    "three_count = 0\n",
    "four_count = 0\n",
    "five_count = 0\n",
    "six_count = 0\n",
    "seven_count = 0\n",
    "eight_count = 0\n",
    "nine_count = 0\n",
    "\n",
    "for number in fibonacci_numbers:\n",
    "    number_str = str(number)\n",
    "    if number_str[0] == \"1\":\n",
    "        one_count += 1\n",
    "    elif number_str[0] == \"2\":\n",
    "        two_count += 1\n",
    "    elif number_str[0] == \"3\":\n",
    "        three_count += 1\n",
    "    elif number_str[0] == \"4\":\n",
    "        four_count += 1\n",
    "    elif number_str[0] == \"5\":\n",
    "        five_count += 1\n",
    "    elif number_str[0] == \"6\":\n",
    "        six_count += 1\n",
    "    elif number_str[0] == \"7\":\n",
    "        seven_count += 1\n",
    "    elif number_str[0] == \"8\":\n",
    "        eight_count += 1\n",
    "    else:\n",
    "        nine_count += 1\n",
    "\n",
    "print(\"Digit   Expected    Actual\")\n",
    "output_row = \"{number:<7} {expected:<12.3f} {actual:<12.3f}\"\n",
    "print(output_row.format(\n",
    "    number=1,\n",
    "    expected=one_count / 500,\n",
    "    actual=math.log10(2)))\n",
    "print(output_row.format(\n",
    "    number=2,\n",
    "    expected=two_count / 500,\n",
    "    actual=math.log10(3 / 2)))\n",
    "print(output_row.format(\n",
    "    number=3,\n",
    "    expected=three_count / 500,\n",
    "    actual=math.log10(4 / 3)))\n",
    "print(output_row.format(\n",
    "    number=4,\n",
    "    expected=four_count / 500,\n",
    "    actual=math.log10(5 / 4)))\n",
    "print(output_row.format(\n",
    "    number=5,\n",
    "    expected=five_count / 500,\n",
    "    actual=math.log10(6 / 5)))\n",
    "print(output_row.format(\n",
    "    number=6,\n",
    "    expected=six_count / 500,\n",
    "    actual=math.log10(7 / 6)))\n",
    "print(output_row.format(\n",
    "    number=7,\n",
    "    expected=seven_count / 500,\n",
    "    actual=math.log10(8 / 7)))\n",
    "print(output_row.format(\n",
    "    number=8,\n",
    "    expected=eight_count / 500,\n",
    "    actual=math.log10(9 / 8)))\n",
    "print(output_row.format(\n",
    "    number=9,\n",
    "    expected=nine_count / 500,\n",
    "    actual=math.log10(10 / 9)))"
   ]
  },
  {
   "cell_type": "markdown",
   "metadata": {},
   "source": [
    "### Q2.5.1: Pascal's Triangle 2\n",
    "I'm using the code from the previous Pascal Triangle question for this"
   ]
  },
  {
   "cell_type": "code",
   "execution_count": 170,
   "metadata": {},
   "outputs": [
    {
     "name": "stdout",
     "output_type": "stream",
     "text": [
      "                                                 *                                                 \n",
      "                                                * *                                                \n",
      "                                               *   *                                               \n",
      "                                              * * * *                                              \n",
      "                                             *       *                                             \n",
      "                                            * *     * *                                            \n",
      "                                           *   *   *   *                                           \n",
      "                                          * * * * * * * *                                          \n",
      "                                         *               *                                         \n",
      "                                        * *             * *                                        \n",
      "                                       *   *           *   *                                       \n",
      "                                      * * * *         * * * *                                      \n",
      "                                     *       *       *       *                                     \n",
      "                                    * *     * *     * *     * *                                    \n",
      "                                   *   *   *   *   *   *   *   *                                   \n",
      "                                  * * * * * * * * * * * * * * * *                                  \n",
      "                                 *                               *                                 \n",
      "                                * *                             * *                                \n",
      "                               *   *                           *   *                               \n",
      "                              * * * *                         * * * *                              \n",
      "                             *       *                       *       *                             \n",
      "                            * *     * *                     * *     * *                            \n",
      "                           *   *   *   *                   *   *   *   *                           \n",
      "                          * * * * * * * *                 * * * * * * * *                          \n",
      "                         *               *               *               *                         \n",
      "                        * *             * *             * *             * *                        \n",
      "                       *   *           *   *           *   *           *   *                       \n",
      "                      * * * *         * * * *         * * * *         * * * *                      \n",
      "                     *       *       *       *       *       *       *       *                     \n",
      "                    * *     * *     * *     * *     * *     * *     * *     * *                    \n",
      "                   *   *   *   *   *   *   *   *   *   *   *   *   *   *   *   *                   \n",
      "                  * * * * * * * * * * * * * * * * * * * * * * * * * * * * * * * *                  \n",
      "                 *                                                               *                 \n",
      "                * *                                                             * *                \n",
      "               *   *                                                           *   *               \n",
      "              * * * *                                                         * * * *              \n",
      "             *       *                                                       *       *             \n",
      "            * *     * *                                                     * *     * *            \n",
      "           *   *   *   *                                                   *   *   *   *           \n",
      "          * * * * * * * *                                                 * * * * * * * *          \n",
      "         *               *                                               *               *         \n",
      "        * *             * *                                             * *             * *        \n",
      "       *   *           *   *                                           *   *           *   *       \n",
      "      * * * *         * * * *                                         * * * *         * * * *      \n",
      "     *       *       *       *                                       *       *       *       *     \n",
      "    * *     * *     * *     * *                                     * *     * *     * *     * *    \n",
      "   *   *   *   *   *   *   *   *                                   *   *   *   *   *   *   *   *   \n",
      "  * * * * * * * * * * * * * * * *                                 * * * * * * * * * * * * * * * *  \n",
      " *                               *                               *                               * \n",
      "* *                             * *                             * *                             * *\n"
     ]
    }
   ],
   "source": [
    "def create_pascal_list(rows: int):\n",
    "    ## Start with just 1\n",
    "    pascal_list = [[1]]\n",
    "    for i in range(1, rows):\n",
    "        ## Row starts with 1\n",
    "        pascal_sublist = [1]\n",
    "        for j in range(1, i):\n",
    "            ## Every number in between is the sum of its two adjacent members in the row above\n",
    "            pascal_sublist.append(pascal_list[i - 1][j - 1] + pascal_list[i - 1][j])\n",
    "        ## Row ends with 1\n",
    "        pascal_sublist.append(1)\n",
    "        ## Add row to pascal list\n",
    "        pascal_list.append(pascal_sublist)\n",
    "    return pascal_list\n",
    "\n",
    "list_to_print = create_pascal_list(50)\n",
    "\n",
    "## Convert list to * and spaces\n",
    "for i in range(len(list_to_print)):\n",
    "    for j in range(len(list_to_print[i])):\n",
    "        if list_to_print[i][j] % 2 == 0:\n",
    "            list_to_print[i][j] = \" \"\n",
    "        else:\n",
    "            list_to_print[i][j] = \"*\"\n",
    "\n",
    "## The maximum width is the length of the last row joined by spaces\n",
    "## The map is necessary as the list is a list of integers and we need strings\n",
    "max_width = len(\" \".join(map(str, list_to_print[-1])))\n",
    "## Each row to be printed\n",
    "for row in list_to_print:\n",
    "    ## Initially join by spaces\n",
    "    str_to_print = \" \".join(map(str, row))\n",
    "    ## Center w.r.t max width\n",
    "    print(str_to_print.center(max_width))"
   ]
  },
  {
   "cell_type": "markdown",
   "metadata": {},
   "source": [
    "### P2.5.2: The Iterative Weak Acid Approximation\n",
    "We will be using the iterative formula\n",
    "$$ [H^+]_{n + 1} = \\sqrt{K_a(c - [H^+]_n)} $$\n",
    "And go for a tolerance level $$ tol = 10^{-10} $$"
   ]
  },
  {
   "cell_type": "code",
   "execution_count": 5,
   "metadata": {},
   "outputs": [
    {
     "name": "stdout",
     "output_type": "stream",
     "text": [
      "Concentration: 0.00041290455528237576\n",
      "pH: 3.3841503258366408\n"
     ]
    }
   ],
   "source": [
    "import math\n",
    "## Initial conditions\n",
    "conc_H = 0.0\n",
    "c = 0.01\n",
    "K_a = 1.78 * (10 ** -5)\n",
    "\n",
    "## Any initial tolerance value higher than the aim tolerance works\n",
    "tol = 1\n",
    "\n",
    "while tol > (10 ** -10):\n",
    "    conc_previous = conc_H\n",
    "    conc_H = math.sqrt(K_a * (c - conc_H))\n",
    "    tol = conc_H - conc_previous\n",
    "\n",
    "print(\"Concentration:\", conc_H)\n",
    "print(\"pH:\", -1 * math.log10(conc_H))"
   ]
  },
  {
   "cell_type": "markdown",
   "metadata": {},
   "source": [
    "### P2.5.3: Luhn's Algorithm\n",
    "The algorithm takes in a string of credit card numbers and checks if it is valid\n",
    "1. Reverse the number;\n",
    "2. Treating the number as an array of digits, take the even-indexed digits (where the indices start at 1) and double their values. If a doubled digit results in a number greater than 10, add the two digits (e.g. the digit 6 becomes 12 and hence 1 + 2 = 3);\n",
    "3. Sum this modified array;\n",
    "4. If the sum of the array modulo 10 is 0 the credit card number is valid."
   ]
  },
  {
   "cell_type": "code",
   "execution_count": 10,
   "metadata": {},
   "outputs": [
    {
     "name": "stdout",
     "output_type": "stream",
     "text": [
      "Credit card is valid\n"
     ]
    }
   ],
   "source": [
    "def luhn_algorithm(credit_card: str):\n",
    "    ## Reverse string\n",
    "    reversed_credit_card = credit_card[::-1]\n",
    "    ## Remove spaces\n",
    "    compress_reverse_credit = reversed_credit_card.replace(\" \", \"\")\n",
    "    ## Sum\n",
    "    sum = 0\n",
    "    for i in range(len(compress_reverse_credit)):\n",
    "        ## Odd indices\n",
    "        if i % 2 == 0:\n",
    "            sum += int(compress_reverse_credit[i])\n",
    "        ## Even indices\n",
    "        else:\n",
    "            double = 2 * int(compress_reverse_credit[i])\n",
    "            if double < 10:\n",
    "                pass\n",
    "            else:\n",
    "                ## Subtracting 9 leads to sum of 2 digits here\n",
    "                double -= 9\n",
    "            sum += double\n",
    "    \n",
    "    if sum % 10 == 0:\n",
    "        print(\"Credit card is valid\")\n",
    "    else:\n",
    "        print(\"Invalid credit card\")\n",
    "\n",
    "\n",
    "luhn_algorithm(\"4799 2739 8713 6272\")\n"
   ]
  },
  {
   "cell_type": "markdown",
   "metadata": {},
   "source": [
    "### P2.5.4: Hero's Method of finding the Square Root of a number\n",
    "The method involved taking an initial guess $$ x_0 $$ and then following the sequence $$ x_{n + 1} = \\frac{1}{2} (x_n + \\frac{S}{x_n}) $$ to get better and better guesses\n",
    "We want to find the square root of 2117519.73 to two decimal places, so we will use a tolerance of 0.005 in a similar manner to the Weak Acid Approximation question"
   ]
  },
  {
   "cell_type": "code",
   "execution_count": 15,
   "metadata": {},
   "outputs": [
    {
     "name": "stdout",
     "output_type": "stream",
     "text": [
      "Approximate square root: 1455.170000378388\n",
      "Real square root: 1455.1700003779627\n"
     ]
    }
   ],
   "source": [
    "def hero_algorithm(number: float, guess: float):\n",
    "    tol = 1\n",
    "    square_root = guess\n",
    "\n",
    "    while tol > 0.005:\n",
    "        prev_root = square_root\n",
    "        square_root = 0.5 * (square_root + (number / square_root))\n",
    "        tol = abs(square_root - prev_root)\n",
    "    \n",
    "    print(\"Approximate square root:\", square_root)\n",
    "\n",
    "hero_algorithm(2117519.73, 2000)\n",
    "print(\"Real square root:\", math.sqrt(2117519.73 ))"
   ]
  },
  {
   "cell_type": "markdown",
   "metadata": {},
   "source": [
    "### P2.5.5: Determining Tomorrow's Date\n",
    "For this one, I am making a function that has a boolean value for us date, and checks the edge cases first"
   ]
  },
  {
   "cell_type": "code",
   "execution_count": 51,
   "metadata": {},
   "outputs": [
    {
     "name": "stdout",
     "output_type": "stream",
     "text": [
      "04/04/2014\n",
      "02/29/2000\n"
     ]
    }
   ],
   "source": [
    "def tomorrow_date(today: str, us_date_style: bool):\n",
    "\n",
    "    split_today = today.split(\"/\")\n",
    "    if us_date_style:\n",
    "        month = int(split_today[0])\n",
    "        day = int(split_today[1])\n",
    "    else:\n",
    "        day = int(split_today[0])\n",
    "        month = int(split_today[1])\n",
    "    year = int(split_today[2])\n",
    "\n",
    "    ## How many days each month contains\n",
    "    month_days = [31, 28, 31, 30, 31, 30, 31, 31, 30, 31, 30, 31]\n",
    "\n",
    "    ## Leap Year\n",
    "    if (year % 4 == 0 and year % 100 != 0) or (year % 400 == 0):\n",
    "        month_days[1] = 29\n",
    "\n",
    "    day += 1\n",
    "    ## If day comes after the last day of the month\n",
    "    if day > month_days[month - 1]:\n",
    "        day = 1\n",
    "        month += 1\n",
    "        ## If month is december\n",
    "        if month > 12:\n",
    "            month = 1\n",
    "            year += 1\n",
    "\n",
    "    if us_date_style:\n",
    "        result = f\"{month:02}/{day:02}/{year}\"\n",
    "    else:\n",
    "        result = f\"{day:02}/{month:02}/{year}\"\n",
    "\n",
    "    return result\n",
    "\n",
    "print(tomorrow_date(\"3/4/2014\", False))\n",
    "print(tomorrow_date(\"2/28/2000\", True))\n"
   ]
  },
  {
   "cell_type": "markdown",
   "metadata": {},
   "source": [
    "### P2.5.6: De Poliganc's Formula\n",
    "To determine the number of trailing zeroes in n!, we will use the formula\n",
    "$$ v_p(n!) = \\sum_{i=1}^{\\infty} \\left\\lfloor \\frac{n}{5^i} \\right\\rfloor\n",
    " $$"
   ]
  },
  {
   "cell_type": "code",
   "execution_count": 1,
   "metadata": {},
   "outputs": [
    {
     "name": "stdout",
     "output_type": "stream",
     "text": [
      "31\n"
     ]
    }
   ],
   "source": [
    "def poliganc(n: int):\n",
    "    sum = 0\n",
    "    i = 1\n",
    "    ## Once the terms hit zero then no more is added to the sum\n",
    "    while (n // (5 ** i)) != 0:\n",
    "        ## Term of poliganc\n",
    "        term = n // (5 ** i)\n",
    "        sum += term\n",
    "        i += 1\n",
    "    print(sum)\n",
    "\n",
    "poliganc(126)"
   ]
  },
  {
   "cell_type": "markdown",
   "metadata": {},
   "source": [
    "### P2.5.7: The Hailstone Sequence\n",
    "The hailstone sequence is related to the Collatz Conjecture\n",
    "1. If the number is even, divide by 2\n",
    "2. If odd, multiply by 3 and add one\n",
    "The conjecture is that all sequences end at 4, 2, 1"
   ]
  },
  {
   "cell_type": "code",
   "execution_count": 52,
   "metadata": {},
   "outputs": [
    {
     "name": "stdout",
     "output_type": "stream",
     "text": [
      "Part a: \n",
      "[27, 82, 41.0, 124.0, 62.0, 31.0, 94.0, 47.0, 142.0, 71.0, 214.0, 107.0, 322.0, 161.0, 484.0, 242.0, 121.0, 364.0, 182.0, 91.0, 274.0, 137.0, 412.0, 206.0, 103.0, 310.0, 155.0, 466.0, 233.0, 700.0, 350.0, 175.0, 526.0, 263.0, 790.0, 395.0, 1186.0, 593.0, 1780.0, 890.0, 445.0, 1336.0, 668.0, 334.0, 167.0, 502.0, 251.0, 754.0, 377.0, 1132.0, 566.0, 283.0, 850.0, 425.0, 1276.0, 638.0, 319.0, 958.0, 479.0, 1438.0, 719.0, 2158.0, 1079.0, 3238.0, 1619.0, 4858.0, 2429.0, 7288.0, 3644.0, 1822.0, 911.0, 2734.0, 1367.0, 4102.0, 2051.0, 6154.0, 3077.0, 9232.0, 4616.0, 2308.0, 1154.0, 577.0, 1732.0, 866.0, 433.0, 1300.0, 650.0, 325.0, 976.0, 488.0, 244.0, 122.0, 61.0, 184.0, 92.0, 46.0, 23.0, 70.0, 35.0, 106.0, 53.0, 160.0, 80.0, 40.0, 20.0, 10.0, 5.0, 16.0, 8.0, 4.0, 2.0, 1.0]\n",
      "Length of sequence: 112\n",
      "Part b: \n"
     ]
    },
    {
     "data": {
      "text/plain": [
       "Text(0, 0.5, 'Length of Hailstone Sequence')"
      ]
     },
     "execution_count": 52,
     "metadata": {},
     "output_type": "execute_result"
    },
    {
     "data": {
      "image/png": "[encoded data removed]",
      "text/plain": [
       "<Figure size 640x480 with 1 Axes>"
      ]
     },
     "metadata": {},
     "output_type": "display_data"
    }
   ],
   "source": [
    "import matplotlib.pyplot as plt\n",
    "\n",
    "print(\"Part a: \")\n",
    "def hailstone_sequence(initial_number: int):\n",
    "    number = initial_number\n",
    "    sequence = [initial_number]\n",
    "    while number != 1:\n",
    "        ## If Even\n",
    "        if number % 2 == 0:\n",
    "            number = number / 2\n",
    "            sequence.append(number)\n",
    "        ## If Odd\n",
    "        else:\n",
    "            number = (3 * number) + 1\n",
    "            sequence.append(number)\n",
    "    print(sequence)\n",
    "    print(\"Length of sequence:\", len(sequence))\n",
    "\n",
    "hailstone_sequence(27)\n",
    "\n",
    "## Only for length, not the sequence\n",
    "def hailstone_length(initial_number: int):\n",
    "    number = initial_number\n",
    "    sequence = [initial_number]\n",
    "    while number != 1:\n",
    "        if number % 2 == 0:\n",
    "            number = number / 2\n",
    "            sequence.append(number)\n",
    "        else:\n",
    "            number = (3 * number) + 1\n",
    "            sequence.append(number)\n",
    "    return len(sequence)\n",
    "\n",
    "numbers = []\n",
    "length_sequences = []\n",
    "for i in range(1, 101):\n",
    "    numbers.append(i)\n",
    "    length_sequences.append(hailstone_length(i))\n",
    "\n",
    "## Creating the plot\n",
    "print(\"Part b: \")\n",
    "plt.bar(numbers, length_sequences)\n",
    "plt.xlabel(\"Number\")\n",
    "plt.ylabel(\"Length of Hailstone Sequence\")"
   ]
  },
  {
   "cell_type": "markdown",
   "metadata": {},
   "source": [
    "### P2.5.8: The Sieve of Eratosthenes\n",
    "This is an algorithm to find all the prime numbers within a list of numbers from 2 onward\n",
    "Here's how it works:\n",
    "1. Mark all multiples of a prime number p as composite\n",
    "2. Find the first unmarked number and make it the new p\n",
    "3. Repeat step 1 with the new p and keep going till there are no more primes\n",
    "The unmarked numbers are primes\n",
    "\n",
    "My approach is as follows:\n",
    "Create the list of numbers\n",
    "Every number that's composite but not marked yet is changed to 0 in the list\n",
    "If a number is 0, skip it\n",
    "Keep doing that to the end\n",
    "I am also using the simpy isprime function to check at the end if the method is working"
   ]
  },
  {
   "cell_type": "code",
   "execution_count": null,
   "metadata": {},
   "outputs": [
    {
     "name": "stdout",
     "output_type": "stream",
     "text": [
      "[2, 3, 5, 7, 11, 13, 17, 19, 23, 29, 31, 37, 41, 43, 47, 53, 59, 61, 67, 71, 73, 79, 83, 89, 97, 101, 103, 107, 109, 113, 127, 131, 137, 139, 149, 151, 157, 163, 167, 173, 179, 181, 191, 193, 197, 199, 211, 223, 227, 229, 233, 239, 241, 251, 257, 263, 269, 271, 277, 281, 283, 293, 307, 311, 313, 317, 331, 337, 347, 349, 353, 359, 367, 373, 379, 383, 389, 397, 401, 409, 419, 421, 431, 433, 439, 443, 449, 457, 461, 463, 467, 479, 487, 491, 499, 503, 509, 521, 523, 541, 547, 557, 563, 569, 571, 577, 587, 593, 599, 601, 607, 613, 617, 619, 631, 641, 643, 647, 653, 659, 661, 673, 677, 683, 691, 701, 709, 719, 727, 733, 739, 743, 751, 757, 761, 769, 773, 787, 797, 809, 811, 821, 823, 827, 829, 839, 853, 857, 859, 863, 877, 881, 883, 887, 907, 911, 919, 929, 937, 941, 947, 953, 967, 971, 977, 983, 991, 997, 1009, 1013, 1019, 1021, 1031, 1033, 1039, 1049, 1051, 1061, 1063, 1069, 1087, 1091, 1093, 1097, 1103, 1109, 1117, 1123, 1129, 1151, 1153, 1163, 1171, 1181, 1187, 1193, 1201, 1213, 1217, 1223, 1229, 1231, 1237, 1249, 1259, 1277, 1279, 1283, 1289, 1291, 1297, 1301, 1303, 1307, 1319, 1321, 1327, 1361, 1367, 1373, 1381, 1399, 1409, 1423, 1427, 1429, 1433, 1439, 1447, 1451, 1453, 1459, 1471, 1481, 1483, 1487, 1489, 1493, 1499, 1511, 1523, 1531, 1543, 1549, 1553, 1559, 1567, 1571, 1579, 1583, 1597, 1601, 1607, 1609, 1613, 1619, 1621, 1627, 1637, 1657, 1663, 1667, 1669, 1693, 1697, 1699, 1709, 1721, 1723, 1733, 1741, 1747, 1753, 1759, 1777, 1783, 1787, 1789, 1801, 1811, 1823, 1831, 1847, 1861, 1867, 1871, 1873, 1877, 1879, 1889, 1901, 1907, 1913, 1931, 1933, 1949, 1951, 1973, 1979, 1987, 1993, 1997, 1999, 2003, 2011, 2017, 2027, 2029, 2039, 2053, 2063, 2069, 2081, 2083, 2087, 2089, 2099, 2111, 2113, 2129, 2131, 2137, 2141, 2143, 2153, 2161, 2179, 2203, 2207, 2213, 2221, 2237, 2239, 2243, 2251, 2267, 2269, 2273, 2281, 2287, 2293, 2297, 2309, 2311, 2333, 2339, 2341, 2347, 2351, 2357, 2371, 2377, 2381, 2383, 2389, 2393, 2399, 2411, 2417, 2423, 2437, 2441, 2447, 2459, 2467, 2473, 2477, 2503, 2521, 2531, 2539, 2543, 2549, 2551, 2557, 2579, 2591, 2593, 2609, 2617, 2621, 2633, 2647, 2657, 2659, 2663, 2671, 2677, 2683, 2687, 2689, 2693, 2699, 2707, 2711, 2713, 2719, 2729, 2731, 2741, 2749, 2753, 2767, 2777, 2789, 2791, 2797, 2801, 2803, 2819, 2833, 2837, 2843, 2851, 2857, 2861, 2879, 2887, 2897, 2903, 2909, 2917, 2927, 2939, 2953, 2957, 2963, 2969, 2971, 2999, 3001, 3011, 3019, 3023, 3037, 3041, 3049, 3061, 3067, 3079, 3083, 3089, 3109, 3119, 3121, 3137, 3163, 3167, 3169, 3181, 3187, 3191, 3203, 3209, 3217, 3221, 3229, 3251, 3253, 3257, 3259, 3271, 3299, 3301, 3307, 3313, 3319, 3323, 3329, 3331, 3343, 3347, 3359, 3361, 3371, 3373, 3389, 3391, 3407, 3413, 3433, 3449, 3457, 3461, 3463, 3467, 3469, 3491, 3499, 3511, 3517, 3527, 3529, 3533, 3539, 3541, 3547, 3557, 3559, 3571, 3581, 3583, 3593, 3607, 3613, 3617, 3623, 3631, 3637, 3643, 3659, 3671, 3673, 3677, 3691, 3697, 3701, 3709, 3719, 3727, 3733, 3739, 3761, 3767, 3769, 3779, 3793, 3797, 3803, 3821, 3823, 3833, 3847, 3851, 3853, 3863, 3877, 3881, 3889, 3907, 3911, 3917, 3919, 3923, 3929, 3931, 3943, 3947, 3967, 3989, 4001, 4003, 4007, 4013, 4019, 4021, 4027, 4049, 4051, 4057, 4073, 4079, 4091, 4093, 4099, 4111, 4127, 4129, 4133, 4139, 4153, 4157, 4159, 4177, 4201, 4211, 4217, 4219, 4229, 4231, 4241, 4243, 4253, 4259, 4261, 4271, 4273, 4283, 4289, 4297, 4327, 4337, 4339, 4349, 4357, 4363, 4373, 4391, 4397, 4409, 4421, 4423, 4441, 4447, 4451, 4457, 4463, 4481, 4483, 4493, 4507, 4513, 4517, 4519, 4523, 4547, 4549, 4561, 4567, 4583, 4591, 4597, 4603, 4621, 4637, 4639, 4643, 4649, 4651, 4657, 4663, 4673, 4679, 4691, 4703, 4721, 4723, 4729, 4733, 4751, 4759, 4783, 4787, 4789, 4793, 4799, 4801, 4813, 4817, 4831, 4861, 4871, 4877, 4889, 4903, 4909, 4919, 4931, 4933, 4937, 4943, 4951, 4957, 4967, 4969, 4973, 4987, 4993, 4999, 5003, 5009, 5011, 5021, 5023, 5039, 5051, 5059, 5077, 5081, 5087, 5099, 5101, 5107, 5113, 5119, 5147, 5153, 5167, 5171, 5179, 5189, 5197, 5209, 5227, 5231, 5233, 5237, 5261, 5273, 5279, 5281, 5297, 5303, 5309, 5323, 5333, 5347, 5351, 5381, 5387, 5393, 5399, 5407, 5413, 5417, 5419, 5431, 5437, 5441, 5443, 5449, 5471, 5477, 5479, 5483, 5501, 5503, 5507, 5519, 5521, 5527, 5531, 5557, 5563, 5569, 5573, 5581, 5591, 5623, 5639, 5641, 5647, 5651, 5653, 5657, 5659, 5669, 5683, 5689, 5693, 5701, 5711, 5717, 5737, 5741, 5743, 5749, 5779, 5783, 5791, 5801, 5807, 5813, 5821, 5827, 5839, 5843, 5849, 5851, 5857, 5861, 5867, 5869, 5879, 5881, 5897, 5903, 5923, 5927, 5939, 5953, 5981, 5987, 6007, 6011, 6029, 6037, 6043, 6047, 6053, 6067, 6073, 6079, 6089, 6091, 6101, 6113, 6121, 6131, 6133, 6143, 6151, 6163, 6173, 6197, 6199, 6203, 6211, 6217, 6221, 6229, 6247, 6257, 6263, 6269, 6271, 6277, 6287, 6299, 6301, 6311, 6317, 6323, 6329, 6337, 6343, 6353, 6359, 6361, 6367, 6373, 6379, 6389, 6397, 6421, 6427, 6449, 6451, 6469, 6473, 6481, 6491, 6521, 6529, 6547, 6551, 6553, 6563, 6569, 6571, 6577, 6581, 6599, 6607, 6619, 6637, 6653, 6659, 6661, 6673, 6679, 6689, 6691, 6701, 6703, 6709, 6719, 6733, 6737, 6761, 6763, 6779, 6781, 6791, 6793, 6803, 6823, 6827, 6829, 6833, 6841, 6857, 6863, 6869, 6871, 6883, 6899, 6907, 6911, 6917, 6947, 6949, 6959, 6961, 6967, 6971, 6977, 6983, 6991, 6997, 7001, 7013, 7019, 7027, 7039, 7043, 7057, 7069, 7079, 7103, 7109, 7121, 7127, 7129, 7151, 7159, 7177, 7187, 7193, 7207, 7211, 7213, 7219, 7229, 7237, 7243, 7247, 7253, 7283, 7297, 7307, 7309, 7321, 7331, 7333, 7349, 7351, 7369, 7393, 7411, 7417, 7433, 7451, 7457, 7459, 7477, 7481, 7487, 7489, 7499, 7507, 7517, 7523, 7529, 7537, 7541, 7547, 7549, 7559, 7561, 7573, 7577, 7583, 7589, 7591, 7603, 7607, 7621, 7639, 7643, 7649, 7669, 7673, 7681, 7687, 7691, 7699, 7703, 7717, 7723, 7727, 7741, 7753, 7757, 7759, 7789, 7793, 7817, 7823, 7829, 7841, 7853, 7867, 7873, 7877, 7879, 7883, 7901, 7907, 7919, 7927, 7933, 7937, 7949, 7951, 7963, 7993, 8009, 8011, 8017, 8039, 8053, 8059, 8069, 8081, 8087, 8089, 8093, 8101, 8111, 8117, 8123, 8147, 8161, 8167, 8171, 8179, 8191, 8209, 8219, 8221, 8231, 8233, 8237, 8243, 8263, 8269, 8273, 8287, 8291, 8293, 8297, 8311, 8317, 8329, 8353, 8363, 8369, 8377, 8387, 8389, 8419, 8423, 8429, 8431, 8443, 8447, 8461, 8467, 8501, 8513, 8521, 8527, 8537, 8539, 8543, 8563, 8573, 8581, 8597, 8599, 8609, 8623, 8627, 8629, 8641, 8647, 8663, 8669, 8677, 8681, 8689, 8693, 8699, 8707, 8713, 8719, 8731, 8737, 8741, 8747, 8753, 8761, 8779, 8783, 8803, 8807, 8819, 8821, 8831, 8837, 8839, 8849, 8861, 8863, 8867, 8887, 8893, 8923, 8929, 8933, 8941, 8951, 8963, 8969, 8971, 8999, 9001, 9007, 9011, 9013, 9029, 9041, 9043, 9049, 9059, 9067, 9091, 9103, 9109, 9127, 9133, 9137, 9151, 9157, 9161, 9173, 9181, 9187, 9199, 9203, 9209, 9221, 9227, 9239, 9241, 9257, 9277, 9281, 9283, 9293, 9311, 9319, 9323, 9337, 9341, 9343, 9349, 9371, 9377, 9391, 9397, 9403, 9413, 9419, 9421, 9431, 9433, 9437, 9439, 9461, 9463, 9467, 9473, 9479, 9491, 9497, 9511, 9521, 9533, 9539, 9547, 9551, 9587, 9601, 9613, 9619, 9623, 9629, 9631, 9643, 9649, 9661, 9677, 9679, 9689, 9697, 9719, 9721, 9733, 9739, 9743, 9749, 9767, 9769, 9781, 9787, 9791, 9803, 9811, 9817, 9829, 9833, 9839, 9851, 9857, 9859, 9871, 9883, 9887, 9901, 9907, 9923, 9929, 9931, 9941, 9949, 9967, 9973]\n",
      "Valid prime list\n"
     ]
    }
   ],
   "source": [
    "import numpy as np\n",
    "import sympy as sp\n",
    "\n",
    "number_list = np.arange(2, 10001, 1)\n",
    "\n",
    "for i in range(len(number_list)):\n",
    "    ## Check if composite\n",
    "    if number_list[i] == 0:\n",
    "        continue\n",
    "    else:\n",
    "        ## Apply algorithm on multiples\n",
    "        current = number_list[i]\n",
    "        multiple = current * 2\n",
    "        while multiple <= 10000:\n",
    "            index = multiple - 2\n",
    "            if number_list[index] != 0:\n",
    "                number_list[index] = 0\n",
    "            multiple += current\n",
    "\n",
    "prime_list = []\n",
    "\n",
    "## Check for the primes (not 0 in the list)\n",
    "for number in number_list:\n",
    "    if number == 0:\n",
    "        pass\n",
    "    else:\n",
    "        prime_list.append(number)\n",
    "\n",
    "print(prime_list)\n",
    "\n",
    "## Check using sympy if the prime list contains all valid primes\n",
    "for prime in prime_list:\n",
    "    if sp.isprime(prime):\n",
    "        pass\n",
    "    else:\n",
    "        print(\"Invalid prime list\")\n",
    "\n",
    "print(\"Valid prime list\")"
   ]
  },
  {
   "cell_type": "markdown",
   "metadata": {},
   "source": [
    "### P2.5.9: Euler's Totient Function\n",
    "Euler's Totient Function $$ \\phi(n) $$ counts the number of integers less than n that are co-prime or relatively prime. We want to find this value for numbers from 1 to 100. For this, I will be using my gcd code from E2.22"
   ]
  },
  {
   "cell_type": "code",
   "execution_count": 25,
   "metadata": {},
   "outputs": [
    {
     "data": {
      "text/plain": [
       "[<matplotlib.lines.Line2D at 0x13f89c440>]"
      ]
     },
     "execution_count": 25,
     "metadata": {},
     "output_type": "execute_result"
    },
    {
     "data": {
      "image/png": "[encoded data removed]",
      "text/plain": [
       "<Figure size 640x480 with 1 Axes>"
      ]
     },
     "metadata": {},
     "output_type": "display_data"
    }
   ],
   "source": [
    "import numpy as np\n",
    "import matplotlib.pyplot as plt\n",
    "\n",
    "## Euclid's GCD Algorithm\n",
    "def gcd(a: int, b: int):\n",
    "    if a == b:\n",
    "        return a\n",
    "    elif a > b:\n",
    "        pass\n",
    "    elif b > a:\n",
    "        switch = a\n",
    "        a = b\n",
    "        b = switch\n",
    "\n",
    "    while b != 0:\n",
    "        remainder = a % b\n",
    "        a = b\n",
    "        b = remainder\n",
    "    \n",
    "    return a\n",
    "\n",
    "number_list = np.arange(1, 101, 1)\n",
    "totient_function = []\n",
    "\n",
    "## Use the algorithm to check if gcd is 1, and if it is, add 1 to the totient function\n",
    "for i in range(len(number_list)):\n",
    "    count = 0\n",
    "    for j in range(1, number_list[i]):\n",
    "        if gcd(number_list[i], number_list[j]) == 1:\n",
    "            count += 1\n",
    "        else:\n",
    "            pass\n",
    "    totient_function.append(count)\n",
    "\n",
    "plt.plot(number_list, totient_function)"
   ]
  },
  {
   "cell_type": "markdown",
   "metadata": {},
   "source": [
    "### P2.5.10: Monte Carlo Approximation of $$ \\pi / 4 $$\n",
    "We can take the area bounded by $$ 0 \\leq x \\leq 1, 0 \\leq y \\leq 1 $$ which has an area of 1\n",
    "The area of a quarter-circle inscribed by that region is one-fourth of pi\n",
    "We can use a monte carlo method to have random points. If they are inside the quarter-circle, we count that as inside. The pi/4 approximation is the number of the points inside the quarter-circle upon all the points"
   ]
  },
  {
   "cell_type": "code",
   "execution_count": 34,
   "metadata": {},
   "outputs": [
    {
     "name": "stdout",
     "output_type": "stream",
     "text": [
      "3.14328\n"
     ]
    }
   ],
   "source": [
    "import random\n",
    "import math\n",
    "\n",
    "count = 0\n",
    "for i in range(100001):\n",
    "    x = random.random()\n",
    "    y = random.random()\n",
    "    if y <= math.sqrt(1 - x**2):\n",
    "        count += 1\n",
    "    else:\n",
    "        pass\n",
    "\n",
    "print((count / 100000) * 4)"
   ]
  },
  {
   "cell_type": "markdown",
   "metadata": {},
   "source": [
    "The sequence converges quite slowly. Feel free to manipulate the number of points"
   ]
  },
  {
   "cell_type": "markdown",
   "metadata": {},
   "source": [
    "### P2.5.11: Jumbling the letters in each word of a sentence\n",
    "We want to jumble the middle letters in a sentence. We can first split the strings into each word. Then take each word and take a substring, shuffle it and then put it back"
   ]
  },
  {
   "cell_type": "code",
   "execution_count": 48,
   "metadata": {},
   "outputs": [
    {
     "name": "stdout",
     "output_type": "stream",
     "text": [
      "Fuor sroce and seevn yraes ago our ftearhs buorght frtoh on tihs cnniteont a new ntoani, coveniecd in lirytbe, and dtdceiead to the ptpoosiiorn that all men are careetd eqaul.\n"
     ]
    }
   ],
   "source": [
    "string = \"Four score and seven years ago our fathers brought forth on this continent a new nation, conceived in liberty, and dedicated to the proposition that all men are created equal.\"\n",
    "\n",
    "words = string.split(\" \")\n",
    "\n",
    "shuffled_words = []\n",
    "\n",
    "for word in words:\n",
    "    ## To avoid extending small words\n",
    "    if len(word) <= 3:\n",
    "        shuffled_words.append(word)\n",
    "    else: \n",
    "        start = word[0]\n",
    "        middle = list(word[1:-1])\n",
    "        end = word[-1]\n",
    "        random.shuffle(middle)\n",
    "        middle_shuffled = ''.join(middle)\n",
    "        replacement_word = start + middle_shuffled + end\n",
    "        shuffled_words.append(replacement_word)\n",
    "\n",
    "print(' '.join(shuffled_words))"
   ]
  },
  {
   "cell_type": "markdown",
   "metadata": {},
   "source": [
    "### P2.5.12: Electronic Configurations\n",
    "This problem will take some time to solve as it requires some sorting and also needs to take into account some properties. To take everything into account, I will use classes. Also I could not import the element symbols so I asked chatgpt to make a list of them"
   ]
  },
  {
   "cell_type": "code",
   "execution_count": 118,
   "metadata": {},
   "outputs": [
    {
     "data": {
      "text/plain": [
       "'Ti : 1s2.2s2.2p6.3s2.3p6.4s2.3d2'"
      ]
     },
     "execution_count": 118,
     "metadata": {},
     "output_type": "execute_result"
    }
   ],
   "source": [
    "import numpy as np\n",
    "## Orbital Class\n",
    "class orbital:\n",
    "    def __init__(self, n: int, l: int):\n",
    "        self.n = n\n",
    "        self.l = l\n",
    "        self.n_plus_l = n + l\n",
    "        self.capacity = 2 * ((2 * l) + 1)\n",
    "        letters = [\"s\", \"p\", \"d\", \"f\"]\n",
    "        self.letter = letters[l]\n",
    "        self.name = str(self.n) + self.letter\n",
    "    \n",
    "    def __repr__(self):\n",
    "        return f\"{self.name} (n+l={self.n_plus_l}, capacity={self.capacity})\"\n",
    "\n",
    "## Generating combinations of n and l\n",
    "x = np.arange(1, 8)\n",
    "y = np.arange(0, 4)\n",
    "\n",
    "orbitals = []\n",
    "for n in x:\n",
    "    for l in range(0, min(n, 4)):\n",
    "        orbitals.append(orbital(n, l))\n",
    "\n",
    "## Sorting orbitals first by n plus l and then n\n",
    "orbitals = sorted(orbitals, key = lambda x: (x.n_plus_l, x.n))\n",
    "\n",
    "element_symbols_104 = [\n",
    "    \"H\", \"He\", \"Li\", \"Be\", \"B\", \"C\", \"N\", \"O\", \"F\", \"Ne\",\n",
    "    \"Na\", \"Mg\", \"Al\", \"Si\", \"P\", \"S\", \"Cl\", \"Ar\", \"K\", \"Ca\",\n",
    "    \"Sc\", \"Ti\", \"V\", \"Cr\", \"Mn\", \"Fe\", \"Co\", \"Ni\", \"Cu\", \"Zn\",\n",
    "    \"Ga\", \"Ge\", \"As\", \"Se\", \"Br\", \"Kr\", \"Rb\", \"Sr\", \"Y\", \"Zr\",\n",
    "    \"Nb\", \"Mo\", \"Tc\", \"Ru\", \"Rh\", \"Pd\", \"Ag\", \"Cd\", \"In\", \"Sn\",\n",
    "    \"Sb\", \"Te\", \"I\", \"Xe\", \"Cs\", \"Ba\", \"La\", \"Ce\", \"Pr\", \"Nd\",\n",
    "    \"Pm\", \"Sm\", \"Eu\", \"Gd\", \"Tb\", \"Dy\", \"Ho\", \"Er\", \"Tm\", \"Yb\",\n",
    "    \"Lu\", \"Hf\", \"Ta\", \"W\", \"Re\", \"Os\", \"Ir\", \"Pt\", \"Au\", \"Hg\",\n",
    "    \"Tl\", \"Pb\", \"Bi\", \"Po\", \"At\", \"Rn\", \"Fr\", \"Ra\", \"Ac\", \"Th\",\n",
    "    \"Pa\", \"U\", \"Np\", \"Pu\", \"Am\", \"Cm\", \"Bk\", \"Cf\", \"Es\", \"Fm\",\n",
    "    \"Md\", \"No\", \"Lr\", \"Rf\"\n",
    "]\n",
    "\n",
    "\n",
    "def electron_configuration(atomic_number: int):\n",
    "    orbital_vs_electron = []\n",
    "    electrons_left = atomic_number\n",
    "    i = 0\n",
    "\n",
    "    while electrons_left > 0 and i < len(orbitals):\n",
    "        current_shell = orbitals[i]\n",
    "        e_in_shell = min(electrons_left, current_shell.capacity)\n",
    "        orbital_vs_electron.append(current_shell.name + str(e_in_shell))\n",
    "        electrons_left -= e_in_shell\n",
    "        i += 1\n",
    "\n",
    "    result = '.'.join(orbital_vs_electron)\n",
    "    return element_symbols_104[atomic_number - 1] + \" : \" + result\n",
    "\n",
    "electron_configuration(22)"
   ]
  },
  {
   "cell_type": "markdown",
   "metadata": {},
   "source": [
    "### P2.6.2: Censoring a Text\n",
    "This one is quite simple, and just requires having a list of censored words and replacing the censored words in a sentence. However, for some reason, I cannot find a fix to the special characters in C++, so it would be helpful if someone can figure that out"
   ]
  },
  {
   "cell_type": "code",
   "execution_count": 63,
   "metadata": {},
   "outputs": [
    {
     "name": "stdout",
     "output_type": "stream",
     "text": [
      "['Some', 'alternative', 'programming', 'languages', 'to', 'Python', 'are', 'C', '', 'C++', '', 'Perl', '', 'Fortran', 'and', 'Java']\n",
      "Some alternative programming languages to Python are *, *++, ****, ******* and Java\n"
     ]
    }
   ],
   "source": [
    "import re\n",
    "\n",
    "def censor_text(censor_list, sentence: str):\n",
    "    words = re.split(r\"[ ,.]\", sentence)\n",
    "    print(words)\n",
    "    for word in words:\n",
    "        if word in censor_list:\n",
    "            sentence = sentence.replace(word, \"*\" * len(word))\n",
    "        else:\n",
    "            pass\n",
    "    print(sentence)\n",
    "\n",
    "censor_text(['C', 'Perl', 'Fortran'], \n",
    "            \"Some alternative programming languages to Python are C, C++, Perl, Fortran and Java\")"
   ]
  },
  {
   "cell_type": "markdown",
   "metadata": {},
   "source": [
    "### P2.6.3: Earth Similarity Index\n",
    "I can't find the data set that the question is referring to, so I am just going to create a general code solution using a class"
   ]
  },
  {
   "cell_type": "code",
   "execution_count": 69,
   "metadata": {},
   "outputs": [],
   "source": [
    "class earth_like_object:\n",
    "    def __init__(self, radius: float, density: float, \n",
    "                 escape_velocity: float, surface_temperature: float):\n",
    "        self.radius = radius\n",
    "        self.density = density\n",
    "        self.escape_velocity = escape_velocity\n",
    "        self.surface_temperature = surface_temperature\n",
    "    \n",
    "def esi(object: earth_like_object):\n",
    "    radius_sim = (1 - math.abs((object.radius) - 1)/(object.radius + 1)) ** (0.57 / 4)\n",
    "    density_sim = (1 - math.abs((object.density) - 1)/(object.density + 1)) ** (1.07 / 4)\n",
    "    velocity_sim = (1 - math.abs((object.escape_velocity) - 1)/(object.escape_velocity + 1)) ** (0.7 / 4)\n",
    "    temp_sim = (1 - math.abs((object.temperature) - 288)/(object.temperature + 288)) ** (5.58 / 4)\n",
    "    esi = radius_sim + density_sim + velocity_sim + temp_sim\n",
    "    return esi"
   ]
  },
  {
   "cell_type": "markdown",
   "metadata": {},
   "source": [
    "### P2.6.4: Manipulating a 2-D Array\n",
    "We want to output all the possible lines from the grid (rows, columns and diagonals)"
   ]
  },
  {
   "cell_type": "code",
   "execution_count": 92,
   "metadata": {},
   "outputs": [
    {
     "name": "stdout",
     "output_type": "stream",
     "text": [
      "Rows: [['A', 'B', 'C', 'D'], ['E', 'F', 'G', 'H'], ['I', 'J', 'K', 'L']]\n",
      "Columns: [['A', 'E', 'I'], ['B', 'F', 'J'], ['C', 'G', 'K'], ['D', 'H', 'L']]\n",
      "First Diagonal: [['A'], ['B', 'E'], ['C', 'F', 'I'], ['D', 'G', 'J']]\n",
      "Second Diagonal: [['D'], ['C', 'H'], ['B', 'G', 'L'], ['A', 'F', 'K']]\n"
     ]
    }
   ],
   "source": [
    "string = \"A B C D \\nE F G H \\nI J K L\"\n",
    "rows = string.split(\"\\n\")\n",
    "elements = [row.split() for row in rows]\n",
    "print(\"Rows:\", elements)\n",
    "## Column transposes rows\n",
    "columns = [[elements[j][i] for j in range(len(elements))] for i in range(len(elements[0]))]\n",
    "print(\"Columns:\", columns)\n",
    "\n",
    "diagonals_one = []\n",
    "\n",
    "## Goes in one direction (all the sums of rows and columns equal)\n",
    "for i in range(len(elements[0])):\n",
    "    diagonal = []\n",
    "    row = 0\n",
    "    col = i\n",
    "    while row < len(elements) and col >= 0:\n",
    "        diagonal.append(elements[row][col])\n",
    "        row += 1\n",
    "        col -= 1\n",
    "    diagonals_one.append(diagonal)\n",
    "    \n",
    "print(\"First Diagonal:\", diagonals_one)\n",
    "\n",
    "diagonals_two = []\n",
    "\n",
    "## Goes in other direction using -ves (all the sums of rows and columns equal)\n",
    "for i in range(len(elements[0]) - 1, -1, -1):\n",
    "    diagonal = []\n",
    "    row = 0\n",
    "    col = i\n",
    "    while row < len(elements) and col < len(elements[0]):\n",
    "        diagonal.append(elements[row][col])\n",
    "        row += 1\n",
    "        col += 1\n",
    "    diagonals_two.append(diagonal)\n",
    "    \n",
    "print(\"Second Diagonal:\", diagonals_two)"
   ]
  },
  {
   "cell_type": "markdown",
   "metadata": {},
   "source": [
    "### P2.7.1: Does a Scrabble word fit?\n",
    "Will take a word, initial position and across boolean"
   ]
  },
  {
   "cell_type": "code",
   "execution_count": 8,
   "metadata": {},
   "outputs": [
    {
     "name": "stdout",
     "output_type": "stream",
     "text": [
      "\"Hello\" Does not fit at G15\n"
     ]
    }
   ],
   "source": [
    "def scrabble_fit(word: str, start: str, across: bool):\n",
    "    ## Used for finding the words fitting down the board\n",
    "    letters = [\"A\", \"B\", \"C\", \"D\", \"E\", \"F\", \"G\", \"H\", \"I\", \"J\", \"K\", \"L\", \"M\", \"N\", \"O\"]\n",
    "    position_letter = start[0]\n",
    "    position_number = int(start[1:])\n",
    "    word_len = len(word)\n",
    "    if across == True:\n",
    "        if (15 - position_number) >= word_len:\n",
    "            print(\"\\\"\" + word + \"\\\"\" + \" Fits at \" + start)\n",
    "        else:\n",
    "            print(\"\\\"\" + word + \"\\\"\" + \" Does not fit at \" + start)\n",
    "    else:\n",
    "        if (14 - letters.index(position_letter)) >= word_len:\n",
    "            print(\"\\\"\" + word + \"\\\"\" + \" Fits at \" + start)\n",
    "        else:\n",
    "            print(\"\\\"\" + word + \"\\\"\" + \" Does not fit at \" + start)\n",
    "            \n",
    "\n",
    "scrabble_fit(\"Hello\", \"G15\", True)"
   ]
  },
  {
   "cell_type": "markdown",
   "metadata": {},
   "source": [
    "### P2.7.2: A little number\n",
    "We want to find the first number whose factorial is not divisible by the sum of its factorial's digits. I will use a while loop"
   ]
  },
  {
   "cell_type": "code",
   "execution_count": 14,
   "metadata": {},
   "outputs": [
    {
     "name": "stdout",
     "output_type": "stream",
     "text": [
      "432\n"
     ]
    }
   ],
   "source": [
    "import math\n",
    "\n",
    "divisible = True\n",
    "n = 1\n",
    "while divisible:\n",
    "    n_factorial = math.factorial(n)\n",
    "    digit_sum = 0\n",
    "    n_string = str(n_factorial)\n",
    "    for i in range(len(n_string)):\n",
    "        digit_sum += int(n_string[i])\n",
    "    if n_factorial % digit_sum == 0:\n",
    "        pass\n",
    "    else:\n",
    "        divisible = False\n",
    "        print(n)\n",
    "    n += 1"
   ]
  },
  {
   "cell_type": "markdown",
   "metadata": {},
   "source": [
    "### P2.7.3: Vector Products\n",
    "Given lists of 3-d vectors, we want to find the dot product, cross product, scalar triple product and vector triple product"
   ]
  },
  {
   "cell_type": "code",
   "execution_count": 20,
   "metadata": {},
   "outputs": [
    {
     "name": "stdout",
     "output_type": "stream",
     "text": [
      "21\n",
      "[-7, 1, 2]\n",
      "10\n",
      "[28, 14, -14]\n"
     ]
    }
   ],
   "source": [
    "def dot_product(a, b):\n",
    "    result = 0\n",
    "    for i in range(3):\n",
    "        result += (a[i] * b[i])\n",
    "    return result\n",
    "\n",
    "print(dot_product([1, 1, 3], [2, 4, 5]))\n",
    "\n",
    "def cross_product(a, b):\n",
    "    result = []\n",
    "    result.append((a[1] * b[2]) - (a[2] * b[1]))\n",
    "    result.append((a[2] * b[0]) - (a[0] * b[2]))\n",
    "    result.append((a[0] * b[1]) - (a[1] * b[0]))\n",
    "    return result\n",
    "\n",
    "print(cross_product([1, 1, 3], [2, 4, 5]))\n",
    "\n",
    "def scalar_triple_product(a, b, c):\n",
    "    b_cross_c = cross_product(b, c)\n",
    "    result = dot_product(a, b_cross_c)\n",
    "    return result\n",
    "\n",
    "print(scalar_triple_product([1, 1, 3], [2, 4, 5], [0, 2, 4]))\n",
    "\n",
    "def vector_triple_product(a, b, c):\n",
    "    b_cross_c = cross_product(b, c)\n",
    "    result = cross_product(a, b_cross_c)\n",
    "    return result\n",
    "\n",
    "print(vector_triple_product([1, 1, 3], [2, 4, 5], [0, 2, 4]))\n"
   ]
  },
  {
   "cell_type": "markdown",
   "metadata": {},
   "source": [
    "### P2.7.4: Volume and Surface Area of a Right Regular Pyramid\n",
    "This question is quite simple. We will be using the following formulas:\n",
    "$$ V = \\frac{1}{3} Ah $$\n",
    "$$ S = A + \\frac{1}{2} nsl $$\n",
    "$$ a = \\frac{1}{2} s \\cot(\\frac{\\pi}{n}) $$\n",
    "$$ A = \\frac{1}{2} nsa $$\n",
    "$$ l = \\sqrt{h^2 + a^2} $$"
   ]
  },
  {
   "cell_type": "code",
   "execution_count": 21,
   "metadata": {},
   "outputs": [
    {
     "name": "stdout",
     "output_type": "stream",
     "text": [
      "Surface Area: 23.707308472489547\n",
      "Volume: 5.285306574609306\n"
     ]
    }
   ],
   "source": [
    "import math\n",
    "\n",
    "def volume_sa_pyramid(h: float, n: int, s: float):\n",
    "    a = ((1/2) * s) / math.tan(math.pi / n)\n",
    "    l = math.sqrt(h**2 + a**2)\n",
    "    area = 1/2 * n * s * a\n",
    "    surface_area = area + (1/2 * n * s * l)\n",
    "    volume = 1/3 * area * h\n",
    "    print(\"Surface Area:\", surface_area)\n",
    "    print(\"Volume:\", volume)\n",
    "\n",
    "volume_sa_pyramid(1.6, 5, 2.4)"
   ]
  },
  {
   "cell_type": "markdown",
   "metadata": {},
   "source": [
    "### P2.7.5: Range and height of a projectile\n",
    "Another quite simple question, like the last one. We just use the formulas:\n",
    "$$ R = \\frac{v^2 \\sin(2 \\alpha)}{g} $$\n",
    "$$ H = \\frac{v^2 \\sin^2(\\alpha)}{2g} $$"
   ]
  },
  {
   "cell_type": "code",
   "execution_count": 23,
   "metadata": {},
   "outputs": [
    {
     "name": "stdout",
     "output_type": "stream",
     "text": [
      "Range: 8.83699391616774 m\n",
      "Height: 1.2755102040816322 m\n"
     ]
    }
   ],
   "source": [
    "import math\n",
    "\n",
    "def range_height_projectile(v: float, a: float):\n",
    "    g = 9.8\n",
    "    a_radians = (a / 180) * math.pi\n",
    "    range = ((v ** 2) * math.sin(2 * a_radians)) / g\n",
    "    height = ((v ** 2) * (math.sin(a_radians) ** 2)) / (2 * g)\n",
    "    print(\"Range:\", range, \"m\")\n",
    "    print(\"Height:\", height, \"m\")\n",
    "\n",
    "range_height_projectile(10, 30)"
   ]
  },
  {
   "cell_type": "markdown",
   "metadata": {},
   "source": [
    "### P2.7.6: An integral of sine and cosine products\n",
    "We want to create a code to generate the results for the definite integrals:\n",
    "\n",
    "\\begin{align*} \\int_0^{\\pi/2} \\sin^n\\theta\\cos^m\\theta\\;\\mathrm{d}\\theta = \\left[ \\begin{array}{ll} \\frac{(m-1)!!(n-1)!!}{(m+n)!!}\\frac{\\pi}{2} & \\quad m,n \\;\\mathrm{both\\;even,}\\\\ \\frac{(m-1)!!(n-1)!!}{(m+n)!!} & \\quad \\mathrm{otherwise.} \\end{array} \\right. \\end{align*}\n",
    "\n",
    "Given some m and n. We can use our double factorial functions from 2.4.6"
   ]
  },
  {
   "cell_type": "code",
   "execution_count": 25,
   "metadata": {},
   "outputs": [
    {
     "name": "stdout",
     "output_type": "stream",
     "text": [
      "0.5\n",
      "0.3333333333333333\n",
      "0.25\n",
      "0.2\n",
      "0.16666666666666666\n",
      "0.3333333333333333\n",
      "0.19634954084936207\n",
      "0.13333333333333333\n",
      "0.09817477042468103\n",
      "0.0761904761904762\n",
      "0.25\n",
      "0.13333333333333333\n",
      "0.08333333333333333\n",
      "0.05714285714285714\n",
      "0.041666666666666664\n",
      "0.2\n",
      "0.09817477042468103\n",
      "0.05714285714285714\n",
      "0.03681553890925539\n",
      "0.025396825396825397\n",
      "0.16666666666666666\n",
      "0.0761904761904762\n",
      "0.041666666666666664\n",
      "0.025396825396825397\n",
      "0.016666666666666666\n"
     ]
    }
   ],
   "source": [
    "import math\n",
    "\n",
    "## Odd\n",
    "def odd_double_factorial(number: int):\n",
    "    if (number % 2 == 0):\n",
    "        raise Exception(\"Not odd\")\n",
    "    else:\n",
    "        pass\n",
    "    factorial = 1\n",
    "    for i in range(0, (number + 1)//2):\n",
    "        factorial *= ((2 * i) + 1)\n",
    "    \n",
    "    return factorial\n",
    "\n",
    "## Even\n",
    "def even_double_factorial(number: int):\n",
    "    if (number % 2 == 1):\n",
    "        raise Exception(\"Not even\")\n",
    "    else:\n",
    "        pass\n",
    "    factorial = 1\n",
    "    for i in range(1, (number // 2) + 1):\n",
    "        factorial *= (2 * i)\n",
    "    \n",
    "    return factorial\n",
    "\n",
    "def sine_cosine_integral(n: int, m: int):\n",
    "    if m % 2 == 0 and n % 2 == 0:\n",
    "        m_minus_one = odd_double_factorial(m - 1)\n",
    "        n_minus_one = odd_double_factorial(n - 1)\n",
    "        m_plus_n = even_double_factorial(m + n)\n",
    "        return (math.pi / 2) * (m_minus_one * n_minus_one) / (m_plus_n)\n",
    "    elif m % 2 == 0:\n",
    "        m_minus_one = odd_double_factorial(m - 1)\n",
    "        n_minus_one = even_double_factorial(n - 1)\n",
    "        m_plus_n = odd_double_factorial(m + n)\n",
    "        return (m_minus_one * n_minus_one) / (m_plus_n)\n",
    "    elif n % 2 == 0:\n",
    "        m_minus_one = even_double_factorial(m - 1)\n",
    "        n_minus_one = odd_double_factorial(n - 1)\n",
    "        m_plus_n = odd_double_factorial(m + n)\n",
    "        return (m_minus_one * n_minus_one) / (m_plus_n)\n",
    "    else:\n",
    "        m_minus_one = even_double_factorial(m - 1)\n",
    "        n_minus_one = even_double_factorial(n - 1)\n",
    "        m_plus_n = even_double_factorial(m + n)\n",
    "        return (m_minus_one * n_minus_one) / (m_plus_n)\n",
    "\n",
    "for m in range(1, 6):\n",
    "    for n in range(1, 6):\n",
    "        print(sine_cosine_integral(n, m))"
   ]
  },
  {
   "cell_type": "markdown",
   "metadata": {},
   "source": [
    "### P2.7.7: Determine if a string is a palindrome using recursion\n",
    "Another way of finding whether a string is a palindrome. With recursion, we want to break down the string until we reach the base case, which is 1 or 0 letters as they are always a palindrome. We want to keep checking whether the left and right ends match and keep reducing till we get to that point. I find the solution in the textbook to be similar to what I thought of so I just used that"
   ]
  },
  {
   "cell_type": "code",
   "execution_count": 26,
   "metadata": {},
   "outputs": [
    {
     "name": "stdout",
     "output_type": "stream",
     "text": [
      "False\n",
      "True\n",
      "False\n",
      "True\n",
      "True\n"
     ]
    }
   ],
   "source": [
    "def is_palindrome(word: str):\n",
    "    if len(word) < 2:\n",
    "        return True\n",
    "    \n",
    "    return word[0] == word[-1] and is_palindrome(word[1:-1])\n",
    "\n",
    "print(is_palindrome(\"thatch\"))\n",
    "print(is_palindrome(\"minim\"))\n",
    "print(is_palindrome(\"an\"))\n",
    "print(is_palindrome(\"i\"))\n",
    "print(is_palindrome(\"redder\"))"
   ]
  },
  {
   "cell_type": "markdown",
   "metadata": {},
   "source": [
    "### P2.7.8: Tetration\n",
    "Tetration as an operation is defined as follows:\n",
    "$$\n",
    "^{n}a = \\underbrace{a^{a^{\\cdot^{\\cdot^{a}}}}}_{n\\ \\text{times}} = \\text{tetration of } a \\text{ to height } n\n",
    "$$\n"
   ]
  },
  {
   "cell_type": "code",
   "execution_count": 29,
   "metadata": {},
   "outputs": [
    {
     "name": "stdout",
     "output_type": "stream",
     "text": [
      "65536\n"
     ]
    }
   ],
   "source": [
    "def tetration(number: float, power: int):\n",
    "    result = number\n",
    "    i = 1\n",
    "    for i in range(power):\n",
    "        result = result ** number\n",
    "        i += 1\n",
    "    return result\n",
    "\n",
    "print(tetration(2, 4))"
   ]
  }
 ],
 "metadata": {
  "kernelspec": {
   "display_name": "base",
   "language": "python",
   "name": "python3"
  },
  "language_info": {
   "codemirror_mode": {
    "name": "ipython",
    "version": 3
   },
   "file_extension": ".py",
   "mimetype": "text/x-python",
   "name": "python",
   "nbconvert_exporter": "python",
   "pygments_lexer": "ipython3",
   "version": "3.12.7"
  }
 },
 "nbformat": 4,
 "nbformat_minor": 2
}
