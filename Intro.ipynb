{
 "cells": [
  {
   "cell_type": "markdown",
   "metadata": {},
   "source": [
    "# Learning Scientific Programming with Python (2nd edition)\n",
    "Learning Scientific Programming with Python (2nd edition) is a Cambridge University book that teaches scientific programming and python, some of whose content is also available on the website https://scipython.com/books/book2/"
   ]
  },
  {
   "cell_type": "markdown",
   "metadata": {},
   "source": [
    "# Intro\n",
    "This set of jupyter notebooks contains my solutions to the problems from different chapters in the book. This is supposed to be my repository of all the scientific programming problems that I have solved"
   ]
  }
 ],
 "metadata": {
  "language_info": {
   "name": "python"
  }
 },
 "nbformat": 4,
 "nbformat_minor": 2
}
